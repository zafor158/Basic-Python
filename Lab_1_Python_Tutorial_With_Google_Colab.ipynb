{
  "cells": [
    {
      "cell_type": "markdown",
      "metadata": {
        "id": "dzNng6vCL9eP"
      },
      "source": [
        "# Lab-1: Python Tutorial With Google Colab\n",
        "\n",
        "---\n",
        "\n"
      ]
    },
    {
      "cell_type": "markdown",
      "metadata": {
        "id": "qVrTo-LhL9eS"
      },
      "source": [
        "##Introduction"
      ]
    },
    {
      "cell_type": "markdown",
      "metadata": {
        "id": "9t1gKp9PL9eV"
      },
      "source": [
        "Python is a great general-purpose programming language on its own, but with the help of a few popular libraries (numpy, scipy, matplotlib) it becomes a powerful environment for scientific computing.\n",
        "\n",
        "We expect that many of you will have some experience with Python and numpy; for the rest of you, this section will serve as a quick crash course both on the Python programming language and on the use of Python for scientific computing.\n"
      ]
    },
    {
      "cell_type": "markdown",
      "metadata": {
        "id": "U1PvreR9L9eW"
      },
      "source": [
        "In this lab, we will cover:\n",
        "\n",
        "* Basic Python: Basic data types (Containers, Lists, Dictionaries, Sets, Tuples), Functions, Classes\n",
        "* Numpy: Arrays, Array indexing, Datatypes, Array math, Broadcasting\n",
        "* Matplotlib: Plotting, Subplots, Images\n",
        "* IPython: Creating notebooks, Typical workflows"
      ]
    },
    {
      "cell_type": "markdown",
      "metadata": {
        "id": "nxvEkGXPM3Xh"
      },
      "source": [
        "## A Brief Note on Python Versions\n",
        "\n",
        "As of Janurary 1, 2020, Python has [officially dropped support](https://www.python.org/doc/sunset-python-2/) for `python2`. We'll be using Python 3.7 for this iteration of the course. You can check your Python version at the command line by running `python --version`. In Colab, we can enforce the Python version by clicking `Runtime -> Change Runtime Type` and selecting `python3`. Note that as of April 2020, Colab uses Python 3.6.9 which should run everything without any errors."
      ]
    },
    {
      "cell_type": "code",
      "execution_count": null,
      "metadata": {
        "colab": {
          "base_uri": "https://localhost:8080/"
        },
        "id": "1L4Am0QATgOc",
        "outputId": "05e5853a-a079-4d8b-de94-dc33b0611d9f"
      },
      "outputs": [
        {
          "output_type": "stream",
          "name": "stdout",
          "text": [
            "Python 3.7.14\n"
          ]
        }
      ],
      "source": [
        "!python --version"
      ]
    },
    {
      "cell_type": "markdown",
      "metadata": {
        "id": "JAFKYgrpL9eY"
      },
      "source": [
        "##Basics of Python"
      ]
    },
    {
      "cell_type": "markdown",
      "metadata": {
        "id": "RbFS6tdgL9ea"
      },
      "source": [
        "Python is a high-level, dynamically typed multiparadigm programming language. Python code is often said to be almost like pseudocode, since it allows you to express very powerful ideas in very few lines of code while being very readable. As an example, here is an implementation of the classic quicksort algorithm in Python:"
      ]
    },
    {
      "cell_type": "code",
      "execution_count": null,
      "metadata": {
        "colab": {
          "base_uri": "https://localhost:8080/"
        },
        "id": "cYb0pjh1L9eb",
        "outputId": "b53d6d99-e92f-4cf0-9906-9acccfad82cb"
      },
      "outputs": [
        {
          "output_type": "stream",
          "name": "stdout",
          "text": [
            "[1, 1, 2, 3, 6, 8, 10]\n"
          ]
        }
      ],
      "source": [
        "def quicksort(arr):\n",
        "    if len(arr) <= 1:\n",
        "        return arr\n",
        "    pivot = arr[len(arr) // 2]\n",
        "    left = [x for x in arr if x < pivot]\n",
        "    middle = [x for x in arr if x == pivot]\n",
        "    right = [x for x in arr if x > pivot]\n",
        "    return quicksort(left) + middle + quicksort(right)\n",
        "\n",
        "print(quicksort([3,6,8,10,1,2,1]))"
      ]
    },
    {
      "cell_type": "markdown",
      "metadata": {
        "id": "NwS_hu4xL9eo"
      },
      "source": [
        "###Basic data types"
      ]
    },
    {
      "cell_type": "markdown",
      "metadata": {
        "id": "DL5sMSZ9L9eq"
      },
      "source": [
        "####Numbers"
      ]
    },
    {
      "cell_type": "markdown",
      "metadata": {
        "id": "MGS0XEWoL9er"
      },
      "source": [
        "Integers and floats work as you would expect from other languages:"
      ]
    },
    {
      "cell_type": "code",
      "execution_count": null,
      "metadata": {
        "colab": {
          "base_uri": "https://localhost:8080/"
        },
        "id": "KheDr_zDL9es",
        "outputId": "b4a40a00-052d-44f8-b73c-a5ca2172c577"
      },
      "outputs": [
        {
          "output_type": "stream",
          "name": "stdout",
          "text": [
            "3 <class 'int'>\n"
          ]
        }
      ],
      "source": [
        "x = 3\n",
        "print(x, type(x))"
      ]
    },
    {
      "cell_type": "code",
      "execution_count": null,
      "metadata": {
        "colab": {
          "base_uri": "https://localhost:8080/"
        },
        "id": "sk_8DFcuL9ey",
        "outputId": "5d5b7926-8885-4ee2-a5f3-4153cc7b9882"
      },
      "outputs": [
        {
          "output_type": "stream",
          "name": "stdout",
          "text": [
            "4\n",
            "2\n",
            "6\n",
            "9\n"
          ]
        }
      ],
      "source": [
        "print(x + 1)   # Addition\n",
        "print(x - 1)   # Subtraction\n",
        "print(x * 2)   # Multiplication\n",
        "print(x ** 2)  # Exponentiation"
      ]
    },
    {
      "cell_type": "code",
      "execution_count": null,
      "metadata": {
        "colab": {
          "base_uri": "https://localhost:8080/"
        },
        "id": "U4Jl8K0tL9e4",
        "outputId": "42d5ffd0-814b-4210-e339-3cc31c729ad3"
      },
      "outputs": [
        {
          "output_type": "stream",
          "name": "stdout",
          "text": [
            "4\n",
            "8\n"
          ]
        }
      ],
      "source": [
        "x += 1\n",
        "print(x)\n",
        "x *= 2\n",
        "print(x)"
      ]
    },
    {
      "cell_type": "code",
      "execution_count": null,
      "metadata": {
        "colab": {
          "base_uri": "https://localhost:8080/"
        },
        "id": "w-nZ0Sg_L9e9",
        "outputId": "9ff5e4cd-da4d-4f4b-d23b-1aa6b45e8c56"
      },
      "outputs": [
        {
          "output_type": "stream",
          "name": "stdout",
          "text": [
            "<class 'float'>\n",
            "2.5 3.5 5.0 6.25\n"
          ]
        }
      ],
      "source": [
        "y = 2.5\n",
        "print(type(y))\n",
        "print(y, y + 1, y * 2, y ** 2)"
      ]
    },
    {
      "cell_type": "markdown",
      "metadata": {
        "id": "r2A9ApyaL9fB"
      },
      "source": [
        "Note that unlike many languages, Python does not have unary increment (x++) or decrement (x--) operators.\n",
        "\n",
        "Python also has built-in types for long integers and complex numbers; you can find all of the details in the [documentation](https://docs.python.org/3.7/library/stdtypes.html#numeric-types-int-float-long-complex)."
      ]
    },
    {
      "cell_type": "markdown",
      "metadata": {
        "id": "EqRS7qhBL9fC"
      },
      "source": [
        "####Booleans"
      ]
    },
    {
      "cell_type": "markdown",
      "metadata": {
        "id": "Nv_LIVOJL9fD"
      },
      "source": [
        "Python implements all of the usual operators for Boolean logic, but uses English words rather than symbols (`&&`, `||`, etc.):"
      ]
    },
    {
      "cell_type": "code",
      "execution_count": null,
      "metadata": {
        "colab": {
          "base_uri": "https://localhost:8080/"
        },
        "id": "RvoImwgGL9fE",
        "outputId": "daffd1ba-9e1c-4c5c-9ee2-7ca664f8d915"
      },
      "outputs": [
        {
          "output_type": "stream",
          "name": "stdout",
          "text": [
            "<class 'bool'>\n"
          ]
        }
      ],
      "source": [
        "t, f = True, False\n",
        "print(type(t))"
      ]
    },
    {
      "cell_type": "markdown",
      "metadata": {
        "id": "YQgmQfOgL9fI"
      },
      "source": [
        "Now we let's look at the operations:"
      ]
    },
    {
      "cell_type": "code",
      "execution_count": null,
      "metadata": {
        "colab": {
          "base_uri": "https://localhost:8080/"
        },
        "id": "6zYm7WzCL9fK",
        "outputId": "eb3d1bfc-934e-4620-f9dc-b881151dbc27"
      },
      "outputs": [
        {
          "output_type": "stream",
          "name": "stdout",
          "text": [
            "False\n",
            "True\n",
            "False\n",
            "True\n"
          ]
        }
      ],
      "source": [
        "print(t and f) # Logical AND;\n",
        "print(t or f)  # Logical OR;\n",
        "print(not t)   # Logical NOT;\n",
        "print(t != f)  # Logical XOR;"
      ]
    },
    {
      "cell_type": "markdown",
      "metadata": {
        "id": "UQnQWFEyL9fP"
      },
      "source": [
        "####Strings"
      ]
    },
    {
      "cell_type": "code",
      "execution_count": null,
      "metadata": {
        "colab": {
          "base_uri": "https://localhost:8080/"
        },
        "id": "AijEDtPFL9fP",
        "outputId": "6e325427-02ef-490f-a3c9-f4c59e97a912"
      },
      "outputs": [
        {
          "output_type": "stream",
          "name": "stdout",
          "text": [
            "hello 5\n"
          ]
        }
      ],
      "source": [
        "hello = 'hello'   # String literals can use single quotes\n",
        "world = \"world\"   # or double quotes; it does not matter\n",
        "print(hello, len(hello))"
      ]
    },
    {
      "cell_type": "code",
      "execution_count": null,
      "metadata": {
        "colab": {
          "base_uri": "https://localhost:8080/"
        },
        "id": "saDeaA7hL9fT",
        "outputId": "121c0a4b-55c6-47a6-aa45-c718b48ad9f1"
      },
      "outputs": [
        {
          "output_type": "stream",
          "name": "stdout",
          "text": [
            "hello world\n"
          ]
        }
      ],
      "source": [
        "hw = hello + ' ' + world  # String concatenation\n",
        "print(hw)"
      ]
    },
    {
      "cell_type": "code",
      "execution_count": null,
      "metadata": {
        "colab": {
          "base_uri": "https://localhost:8080/"
        },
        "id": "Nji1_UjYL9fY",
        "outputId": "4842b52f-4994-490f-f17f-5d096ef73664"
      },
      "outputs": [
        {
          "output_type": "stream",
          "name": "stdout",
          "text": [
            "hello world 12\n"
          ]
        }
      ],
      "source": [
        "hw12 = '{} {} {}'.format(hello, world, 12)  # string formatting\n",
        "print(hw12)"
      ]
    },
    {
      "cell_type": "markdown",
      "metadata": {
        "id": "bUpl35bIL9fc"
      },
      "source": [
        "String objects have a bunch of useful methods; for example:"
      ]
    },
    {
      "cell_type": "code",
      "execution_count": null,
      "metadata": {
        "colab": {
          "base_uri": "https://localhost:8080/"
        },
        "id": "VOxGatlsL9fd",
        "outputId": "393c35a8-ed00-46cb-a4a6-4b8fd911d769"
      },
      "outputs": [
        {
          "output_type": "stream",
          "name": "stdout",
          "text": [
            "Hello\n",
            "HELLO\n",
            "  hello\n",
            " hello \n",
            "he(ell)(ell)o\n",
            "world\n"
          ]
        }
      ],
      "source": [
        "s = \"hello\"\n",
        "print(s.capitalize())  # Capitalize a string\n",
        "print(s.upper())       # Convert a string to uppercase; prints \"HELLO\"\n",
        "print(s.rjust(7))      # Right-justify a string, padding with spaces\n",
        "print(s.center(7))     # Center a string, padding with spaces\n",
        "print(s.replace('l', '(ell)'))  # Replace all instances of one substring with another\n",
        "print('  world '.strip())  # Strip leading and trailing whitespace"
      ]
    },
    {
      "cell_type": "markdown",
      "metadata": {
        "id": "06cayXLtL9fi"
      },
      "source": [
        "You can find a list of all string methods in the [documentation](https://docs.python.org/3.7/library/stdtypes.html#string-methods)."
      ]
    },
    {
      "cell_type": "markdown",
      "metadata": {
        "id": "p-6hClFjL9fk"
      },
      "source": [
        "###Containers"
      ]
    },
    {
      "cell_type": "markdown",
      "metadata": {
        "id": "FD9H18eQL9fk"
      },
      "source": [
        "Python includes several built-in container types: lists, dictionaries, sets, and tuples."
      ]
    },
    {
      "cell_type": "markdown",
      "metadata": {
        "id": "UsIWOe0LL9fn"
      },
      "source": [
        "####Lists"
      ]
    },
    {
      "cell_type": "markdown",
      "metadata": {
        "id": "wzxX7rgWL9fn"
      },
      "source": [
        "A list is the Python equivalent of an array, but is resizeable and can contain elements of different types:"
      ]
    },
    {
      "cell_type": "code",
      "execution_count": null,
      "metadata": {
        "colab": {
          "base_uri": "https://localhost:8080/"
        },
        "id": "hk3A8pPcL9fp",
        "outputId": "a45dfd25-6eb5-4d96-c673-a9e17d9f64c1"
      },
      "outputs": [
        {
          "output_type": "stream",
          "name": "stdout",
          "text": [
            "[3, 1, 2] 2\n",
            "2\n"
          ]
        }
      ],
      "source": [
        "xs = [3, 1, 2]   # Create a list\n",
        "print(xs, xs[2])\n",
        "print(xs[-1])     # Negative indices count from the end of the list; prints \"2\""
      ]
    },
    {
      "cell_type": "code",
      "execution_count": null,
      "metadata": {
        "colab": {
          "base_uri": "https://localhost:8080/"
        },
        "id": "YCjCy_0_L9ft",
        "outputId": "3c63a9b1-a2d2-4009-eed3-6b2b5f12809c"
      },
      "outputs": [
        {
          "output_type": "stream",
          "name": "stdout",
          "text": [
            "[3, 1, 'foo']\n"
          ]
        }
      ],
      "source": [
        "xs[2] = 'foo'    # Lists can contain elements of different types\n",
        "print(xs)"
      ]
    },
    {
      "cell_type": "code",
      "execution_count": null,
      "metadata": {
        "colab": {
          "base_uri": "https://localhost:8080/"
        },
        "id": "vJ0x5cF-L9fx",
        "outputId": "5aa1c8e3-0638-429e-aa80-33175cfddc40"
      },
      "outputs": [
        {
          "output_type": "stream",
          "name": "stdout",
          "text": [
            "[3, 1, 'foo', 'bar']\n"
          ]
        }
      ],
      "source": [
        "xs.append('bar') # Add a new element to the end of the list\n",
        "print(xs)"
      ]
    },
    {
      "cell_type": "code",
      "execution_count": null,
      "metadata": {
        "colab": {
          "base_uri": "https://localhost:8080/"
        },
        "id": "cxVCNRTNL9f1",
        "outputId": "f18460b2-e5a2-4e25-c728-86d0a7d7f2cb"
      },
      "outputs": [
        {
          "output_type": "stream",
          "name": "stdout",
          "text": [
            "bar [3, 1, 'foo']\n"
          ]
        }
      ],
      "source": [
        "x = xs.pop()     # Remove and return the last element of the list\n",
        "print(x, xs)"
      ]
    },
    {
      "cell_type": "markdown",
      "metadata": {
        "id": "ilyoyO34L9f4"
      },
      "source": [
        "As usual, you can find all the gory details about lists in the [documentation](https://docs.python.org/3.7/tutorial/datastructures.html#more-on-lists)."
      ]
    },
    {
      "cell_type": "markdown",
      "metadata": {
        "id": "ovahhxd_L9f5"
      },
      "source": [
        "####Slicing"
      ]
    },
    {
      "cell_type": "markdown",
      "metadata": {
        "id": "YeSYKhv9L9f6"
      },
      "source": [
        "In addition to accessing list elements one at a time, Python provides concise syntax to access sublists; this is known as slicing:"
      ]
    },
    {
      "cell_type": "code",
      "execution_count": null,
      "metadata": {
        "colab": {
          "base_uri": "https://localhost:8080/"
        },
        "id": "ninq666bL9f6",
        "outputId": "c61da91c-2d98-4bf4-e38d-53b4033c7cd1"
      },
      "outputs": [
        {
          "output_type": "stream",
          "name": "stdout",
          "text": [
            "[0, 1, 2, 3, 4]\n",
            "[2, 3]\n",
            "[2, 3, 4]\n",
            "[0, 1]\n",
            "[0, 1, 2, 3, 4]\n",
            "[0, 1, 2, 3]\n",
            "[0, 1, 8, 9, 4]\n"
          ]
        }
      ],
      "source": [
        "nums = list(range(5))    # range is a built-in function that creates a list of integers\n",
        "print(nums)         # Prints \"[0, 1, 2, 3, 4]\"\n",
        "print(nums[2:4])    # Get a slice from index 2 to 4 (exclusive); prints \"[2, 3]\"\n",
        "print(nums[2:])     # Get a slice from index 2 to the end; prints \"[2, 3, 4]\"\n",
        "print(nums[:2])     # Get a slice from the start to index 2 (exclusive); prints \"[0, 1]\"\n",
        "print(nums[:])      # Get a slice of the whole list; prints [\"0, 1, 2, 3, 4]\"\n",
        "print(nums[:-1])    # Slice indices can be negative; prints [\"0, 1, 2, 3]\"\n",
        "nums[2:4] = [8, 9] # Assign a new sublist to a slice\n",
        "print(nums)         # Prints \"[0, 1, 8, 9, 4]\""
      ]
    },
    {
      "cell_type": "markdown",
      "metadata": {
        "id": "UONpMhF4L9f_"
      },
      "source": [
        "####Loops"
      ]
    },
    {
      "cell_type": "markdown",
      "metadata": {
        "id": "_DYz1j6QL9f_"
      },
      "source": [
        "You can loop over the elements of a list like this:"
      ]
    },
    {
      "cell_type": "code",
      "execution_count": null,
      "metadata": {
        "colab": {
          "base_uri": "https://localhost:8080/"
        },
        "id": "4cCOysfWL9gA",
        "outputId": "16676826-fbb8-4835-b4cf-775cb392cd52"
      },
      "outputs": [
        {
          "output_type": "stream",
          "name": "stdout",
          "text": [
            "cat\n",
            "dog\n",
            "monkey\n"
          ]
        }
      ],
      "source": [
        "animals = ['cat', 'dog', 'monkey']\n",
        "for animal in animals:\n",
        "    print(animal)"
      ]
    },
    {
      "cell_type": "markdown",
      "metadata": {
        "id": "KxIaQs7pL9gE"
      },
      "source": [
        "If you want access to the index of each element within the body of a loop, use the built-in `enumerate` function:"
      ]
    },
    {
      "cell_type": "code",
      "execution_count": null,
      "metadata": {
        "colab": {
          "base_uri": "https://localhost:8080/"
        },
        "id": "JjGnDluWL9gF",
        "outputId": "c6f20da5-7957-49c2-d53c-406a54a7162b"
      },
      "outputs": [
        {
          "output_type": "stream",
          "name": "stdout",
          "text": [
            "#1: cat\n",
            "#2: dog\n",
            "#3: monkey\n"
          ]
        }
      ],
      "source": [
        "animals = ['cat', 'dog', 'monkey']\n",
        "for idx, animal in enumerate(animals):\n",
        "    print('#{}: {}'.format(idx + 1, animal))"
      ]
    },
    {
      "cell_type": "markdown",
      "metadata": {
        "id": "arrLCcMyL9gK"
      },
      "source": [
        "####List comprehensions:"
      ]
    },
    {
      "cell_type": "markdown",
      "metadata": {
        "id": "5Qn2jU_pL9gL"
      },
      "source": [
        "When programming, frequently we want to transform one type of data into another. As a simple example, consider the following code that computes square numbers:"
      ]
    },
    {
      "cell_type": "code",
      "execution_count": null,
      "metadata": {
        "colab": {
          "base_uri": "https://localhost:8080/"
        },
        "id": "IVNEwoMXL9gL",
        "outputId": "b4a1e85e-c7b3-4c17-85cc-3b7303549bd1"
      },
      "outputs": [
        {
          "output_type": "stream",
          "name": "stdout",
          "text": [
            "[0, 1, 4, 9, 16]\n"
          ]
        }
      ],
      "source": [
        "nums = [0, 1, 2, 3, 4]\n",
        "squares = []\n",
        "for x in nums:\n",
        "    squares.append(x ** 2)\n",
        "print(squares)"
      ]
    },
    {
      "cell_type": "markdown",
      "metadata": {
        "id": "7DmKVUFaL9gQ"
      },
      "source": [
        "You can make this code simpler using a list comprehension:"
      ]
    },
    {
      "cell_type": "code",
      "execution_count": null,
      "metadata": {
        "colab": {
          "base_uri": "https://localhost:8080/"
        },
        "id": "kZxsUfV6L9gR",
        "outputId": "86e6f298-fcb8-4adc-d846-d9646c4e0030"
      },
      "outputs": [
        {
          "output_type": "stream",
          "name": "stdout",
          "text": [
            "[0, 1, 4, 9, 16]\n"
          ]
        }
      ],
      "source": [
        "nums = [0, 1, 2, 3, 4]\n",
        "squares = [x ** 2 for x in nums]\n",
        "print(squares)"
      ]
    },
    {
      "cell_type": "markdown",
      "metadata": {
        "id": "-D8ARK7tL9gV"
      },
      "source": [
        "List comprehensions can also contain conditions:"
      ]
    },
    {
      "cell_type": "code",
      "execution_count": null,
      "metadata": {
        "colab": {
          "base_uri": "https://localhost:8080/"
        },
        "id": "yUtgOyyYL9gV",
        "outputId": "90142500-3be3-4ebe-f1fd-097449d46468"
      },
      "outputs": [
        {
          "output_type": "stream",
          "name": "stdout",
          "text": [
            "[0, 4, 16]\n"
          ]
        }
      ],
      "source": [
        "nums = [0, 1, 2, 3, 4]\n",
        "even_squares = [x ** 2 for x in nums if x % 2 == 0]\n",
        "print(even_squares)"
      ]
    },
    {
      "cell_type": "markdown",
      "source": [
        "#### Exercises on list"
      ],
      "metadata": {
        "id": "Um75AImjMNh0"
      }
    },
    {
      "cell_type": "markdown",
      "source": [
        "Find all of the numbers from 1-1000 that are divisible by 5 (use List comprehensions to solve the problem below)"
      ],
      "metadata": {
        "id": "4SBp1mzEMglk"
      }
    },
    {
      "cell_type": "code",
      "source": [],
      "metadata": {
        "id": "HZkHfpHuMQbi"
      },
      "execution_count": null,
      "outputs": []
    },
    {
      "cell_type": "markdown",
      "source": [
        "Count the number of spaces in a string.\n",
        "\n",
        "some_string = 'the slow solid squid swam sumptuously through the slimy swamp'"
      ],
      "metadata": {
        "id": "ixCzw7CDMyoF"
      }
    },
    {
      "cell_type": "code",
      "source": [],
      "metadata": {
        "id": "xMnjKnPgMz7z"
      },
      "execution_count": null,
      "outputs": []
    },
    {
      "cell_type": "markdown",
      "source": [
        "Get only the numbers in a sentence like 'In 1984 there were 13 instances of a protest with over 1000 people attending'.\n",
        "\n",
        "Result is a list of numbers like [3,4,5]"
      ],
      "metadata": {
        "id": "9lkaryYTNF_z"
      }
    },
    {
      "cell_type": "code",
      "source": [],
      "metadata": {
        "id": "tDxWui34M9rr"
      },
      "execution_count": null,
      "outputs": []
    },
    {
      "cell_type": "markdown",
      "source": [
        "Move all zero digits to end of a given list of numbers:\n",
        "\n",
        "Expected output:\n",
        "\n",
        "Original list:\n",
        "\n",
        "[3, 4, 0, 0, 0, 6, 2, 0, 6, 7, 6, 0, 0, 0, 9, 10, 7, 4, 4, 5, 3, 0, 0, 2, 9, 7, 1]\n",
        "\n",
        "Move all zero digits to end of the said list of numbers:\n",
        "\n",
        "[3, 4, 6, 2, 6, 7, 6, 9, 10, 7, 4, 4, 5, 3, 2, 9, 7, 1, 0, 0, 0, 0, 0, 0, 0, 0, 0]"
      ],
      "metadata": {
        "id": "0ntsWBHZbhpp"
      }
    },
    {
      "cell_type": "code",
      "source": [],
      "metadata": {
        "id": "Zqz2Ob0FcSMh"
      },
      "execution_count": null,
      "outputs": []
    },
    {
      "cell_type": "markdown",
      "metadata": {
        "id": "H8xsUEFpL9gZ"
      },
      "source": [
        "####Dictionaries"
      ]
    },
    {
      "cell_type": "markdown",
      "metadata": {
        "id": "kkjAGMAJL9ga"
      },
      "source": [
        "A dictionary stores (key, value) pairs, similar to a `Map` in Java or an object in Javascript. You can use it like this:"
      ]
    },
    {
      "cell_type": "code",
      "execution_count": null,
      "metadata": {
        "colab": {
          "base_uri": "https://localhost:8080/"
        },
        "id": "XBYI1MrYL9gb",
        "outputId": "85f5421e-6144-49b4-d05d-341f33edd563"
      },
      "outputs": [
        {
          "output_type": "stream",
          "name": "stdout",
          "text": [
            "cute\n",
            "True\n"
          ]
        }
      ],
      "source": [
        "d = {'cat': 'cute', 'dog': 'furry'}  # Create a new dictionary with some data\n",
        "print(d['cat'])       # Get an entry from a dictionary; prints \"cute\"\n",
        "print('cat' in d)     # Check if a dictionary has a given key; prints \"True\""
      ]
    },
    {
      "cell_type": "code",
      "execution_count": null,
      "metadata": {
        "colab": {
          "base_uri": "https://localhost:8080/"
        },
        "id": "pS7e-G-HL9gf",
        "outputId": "78a277fb-374c-4ddf-8d50-9386c4baec49"
      },
      "outputs": [
        {
          "output_type": "stream",
          "name": "stdout",
          "text": [
            "wet\n"
          ]
        }
      ],
      "source": [
        "d['fish'] = 'wet'    # Set an entry in a dictionary\n",
        "print(d['fish'])      # Prints \"wet\""
      ]
    },
    {
      "cell_type": "code",
      "execution_count": null,
      "metadata": {
        "colab": {
          "base_uri": "https://localhost:8080/",
          "height": 170
        },
        "id": "tFY065ItL9gi",
        "outputId": "ea568cd0-35e2-41dc-b1a3-b93f69517a4b"
      },
      "outputs": [
        {
          "output_type": "error",
          "ename": "KeyError",
          "evalue": "ignored",
          "traceback": [
            "\u001b[0;31m---------------------------------------------------------------------------\u001b[0m",
            "\u001b[0;31mKeyError\u001b[0m                                  Traceback (most recent call last)",
            "\u001b[0;32m<ipython-input-29-78fc9745d9cf>\u001b[0m in \u001b[0;36m<module>\u001b[0;34m\u001b[0m\n\u001b[0;32m----> 1\u001b[0;31m \u001b[0mprint\u001b[0m\u001b[0;34m(\u001b[0m\u001b[0md\u001b[0m\u001b[0;34m[\u001b[0m\u001b[0;34m'monkey'\u001b[0m\u001b[0;34m]\u001b[0m\u001b[0;34m)\u001b[0m  \u001b[0;31m# KeyError: 'monkey' not a key of d\u001b[0m\u001b[0;34m\u001b[0m\u001b[0;34m\u001b[0m\u001b[0m\n\u001b[0m",
            "\u001b[0;31mKeyError\u001b[0m: 'monkey'"
          ]
        }
      ],
      "source": [
        "print(d['monkey'])  # KeyError: 'monkey' not a key of d"
      ]
    },
    {
      "cell_type": "code",
      "execution_count": null,
      "metadata": {
        "colab": {
          "base_uri": "https://localhost:8080/"
        },
        "id": "8TjbEWqML9gl",
        "outputId": "a872f03a-5e63-4779-9947-11b0cf95def5"
      },
      "outputs": [
        {
          "output_type": "stream",
          "name": "stdout",
          "text": [
            "N/A\n",
            "wet\n"
          ]
        }
      ],
      "source": [
        "print(d.get('monkey', 'N/A'))  # Get an element with a default; prints \"N/A\"\n",
        "print(d.get('fish', 'N/A'))    # Get an element with a default; prints \"wet\""
      ]
    },
    {
      "cell_type": "code",
      "execution_count": null,
      "metadata": {
        "colab": {
          "base_uri": "https://localhost:8080/"
        },
        "id": "0EItdNBJL9go",
        "outputId": "5c6458c1-9dc6-47d3-faa0-37d5f0e37d0d"
      },
      "outputs": [
        {
          "output_type": "stream",
          "name": "stdout",
          "text": [
            "N/A\n"
          ]
        }
      ],
      "source": [
        "del d['fish']        # Remove an element from a dictionary\n",
        "print(d.get('fish', 'N/A')) # \"fish\" is no longer a key; prints \"N/A\""
      ]
    },
    {
      "cell_type": "markdown",
      "metadata": {
        "id": "wqm4dRZNL9gr"
      },
      "source": [
        "You can find all you need to know about dictionaries in the [documentation](https://docs.python.org/2/library/stdtypes.html#dict)."
      ]
    },
    {
      "cell_type": "markdown",
      "metadata": {
        "id": "IxwEqHlGL9gr"
      },
      "source": [
        "It is easy to iterate over the keys in a dictionary:"
      ]
    },
    {
      "cell_type": "code",
      "execution_count": null,
      "metadata": {
        "colab": {
          "base_uri": "https://localhost:8080/"
        },
        "id": "rYfz7ZKNL9gs",
        "outputId": "be4f12ea-8196-4d34-85fa-becb4a86eac1"
      },
      "outputs": [
        {
          "output_type": "stream",
          "name": "stdout",
          "text": [
            "A person has 2 legs\n",
            "A cat has 4 legs\n",
            "A spider has 8 legs\n"
          ]
        }
      ],
      "source": [
        "d = {'person': 2, 'cat': 4, 'spider': 8}\n",
        "for animal, legs in d.items():\n",
        "    print('A {} has {} legs'.format(animal, legs))"
      ]
    },
    {
      "cell_type": "markdown",
      "metadata": {
        "id": "17sxiOpzL9gz"
      },
      "source": [
        "Dictionary comprehensions: These are similar to list comprehensions, but allow you to easily construct dictionaries. For example:"
      ]
    },
    {
      "cell_type": "code",
      "execution_count": null,
      "metadata": {
        "colab": {
          "base_uri": "https://localhost:8080/"
        },
        "id": "8PB07imLL9gz",
        "outputId": "53a8e630-2f4a-41f6-acbd-a05d65f0b320"
      },
      "outputs": [
        {
          "output_type": "stream",
          "name": "stdout",
          "text": [
            "{0: 0, 2: 4, 4: 16}\n"
          ]
        }
      ],
      "source": [
        "nums = [0, 1, 2, 3, 4]\n",
        "even_num_to_square = {x: x ** 2 for x in nums if x % 2 == 0}\n",
        "print(even_num_to_square)"
      ]
    },
    {
      "cell_type": "markdown",
      "metadata": {
        "id": "V9MHfUdvL9g2"
      },
      "source": [
        "####Sets"
      ]
    },
    {
      "cell_type": "markdown",
      "metadata": {
        "id": "Rpm4UtNpL9g2"
      },
      "source": [
        "A set is an unordered collection of distinct elements. As a simple example, consider the following:"
      ]
    },
    {
      "cell_type": "code",
      "execution_count": null,
      "metadata": {
        "colab": {
          "base_uri": "https://localhost:8080/"
        },
        "id": "MmyaniLsL9g2",
        "outputId": "201428af-df2c-4222-f8eb-3349c4e9ceaf"
      },
      "outputs": [
        {
          "output_type": "stream",
          "name": "stdout",
          "text": [
            "True\n",
            "False\n"
          ]
        }
      ],
      "source": [
        "animals = {'cat', 'dog'}\n",
        "print('cat' in animals)   # Check if an element is in a set; prints \"True\"\n",
        "print('fish' in animals)  # prints \"False\"\n"
      ]
    },
    {
      "cell_type": "code",
      "execution_count": null,
      "metadata": {
        "colab": {
          "base_uri": "https://localhost:8080/"
        },
        "id": "ElJEyK86L9g6",
        "outputId": "add4d204-3b13-4eb6-dcab-3022ec2509ed"
      },
      "outputs": [
        {
          "output_type": "stream",
          "name": "stdout",
          "text": [
            "True\n",
            "3\n"
          ]
        }
      ],
      "source": [
        "animals.add('fish')      # Add an element to a set\n",
        "print('fish' in animals)\n",
        "print(len(animals))       # Number of elements in a set;"
      ]
    },
    {
      "cell_type": "code",
      "execution_count": null,
      "metadata": {
        "colab": {
          "base_uri": "https://localhost:8080/"
        },
        "id": "5uGmrxdPL9g9",
        "outputId": "2d49efbb-4cd4-4b5f-de58-3d4d96f1b7f3"
      },
      "outputs": [
        {
          "output_type": "stream",
          "name": "stdout",
          "text": [
            "3\n",
            "2\n"
          ]
        }
      ],
      "source": [
        "animals.add('cat')       # Adding an element that is already in the set does nothing\n",
        "print(len(animals))\n",
        "animals.remove('cat')    # Remove an element from a set\n",
        "print(len(animals))"
      ]
    },
    {
      "cell_type": "markdown",
      "metadata": {
        "id": "zk2DbvLKL9g_"
      },
      "source": [
        "_Loops_: Iterating over a set has the same syntax as iterating over a list; however since sets are unordered, you cannot make assumptions about the order in which you visit the elements of the set:"
      ]
    },
    {
      "cell_type": "code",
      "execution_count": null,
      "metadata": {
        "colab": {
          "base_uri": "https://localhost:8080/"
        },
        "id": "K47KYNGyL9hA",
        "outputId": "7a5f3761-c2e7-42a6-abcc-cedb574c8b70"
      },
      "outputs": [
        {
          "output_type": "stream",
          "name": "stdout",
          "text": [
            "#1: dog\n",
            "#2: fish\n",
            "#3: cat\n"
          ]
        }
      ],
      "source": [
        "animals = {'cat', 'dog', 'fish'}\n",
        "for idx, animal in enumerate(animals):\n",
        "    print('#{}: {}'.format(idx + 1, animal))"
      ]
    },
    {
      "cell_type": "markdown",
      "metadata": {
        "id": "puq4S8buL9hC"
      },
      "source": [
        "Set comprehensions: Like lists and dictionaries, we can easily construct sets using set comprehensions:"
      ]
    },
    {
      "cell_type": "code",
      "execution_count": null,
      "metadata": {
        "colab": {
          "base_uri": "https://localhost:8080/"
        },
        "id": "iw7k90k3L9hC",
        "outputId": "34156f9c-6ec8-44db-f0fe-17fc45b9dfda"
      },
      "outputs": [
        {
          "output_type": "stream",
          "name": "stdout",
          "text": [
            "{0, 1, 2, 3, 4, 5}\n"
          ]
        }
      ],
      "source": [
        "from math import sqrt\n",
        "print({int(sqrt(x)) for x in range(30)})"
      ]
    },
    {
      "cell_type": "markdown",
      "metadata": {
        "id": "qPsHSKB1L9hF"
      },
      "source": [
        "####Tuples"
      ]
    },
    {
      "cell_type": "markdown",
      "metadata": {
        "id": "kucc0LKVL9hG"
      },
      "source": [
        "A tuple is an (immutable) ordered list of values. A tuple is in many ways similar to a list; one of the most important differences is that tuples can be used as keys in dictionaries and as elements of sets, while lists cannot. Here is a trivial example:"
      ]
    },
    {
      "cell_type": "code",
      "execution_count": null,
      "metadata": {
        "colab": {
          "base_uri": "https://localhost:8080/"
        },
        "id": "9wHUyTKxL9hH",
        "outputId": "342c7f25-5d17-4a40-c66b-514c11b11dfd"
      },
      "outputs": [
        {
          "output_type": "stream",
          "name": "stdout",
          "text": [
            "<class 'tuple'>\n",
            "5\n",
            "1\n"
          ]
        }
      ],
      "source": [
        "d = {(x, x + 1): x for x in range(10)}  # Create a dictionary with tuple keys\n",
        "t = (5, 6)       # Create a tuple\n",
        "print(type(t))\n",
        "print(d[t])\n",
        "print(d[(1, 2)])"
      ]
    },
    {
      "cell_type": "markdown",
      "source": [
        "#### Exercise of Dict, set and tuple"
      ],
      "metadata": {
        "id": "n3AxhGg1NnFs"
      }
    },
    {
      "cell_type": "markdown",
      "source": [
        "Get the index and the value as a tuple for items in the\n",
        "\n",
        "list [\"hi\", 4,  8.99, 'apple', ('t,b','n')].\n",
        "\n",
        "Result would look like [(index, value), (index, value)]"
      ],
      "metadata": {
        "id": "rI-72xA2Nr8q"
      }
    },
    {
      "cell_type": "code",
      "source": [],
      "metadata": {
        "id": "d9F3a4-YN3JC"
      },
      "execution_count": null,
      "outputs": []
    },
    {
      "cell_type": "markdown",
      "source": [
        "Get the key of a minimum value from the following\n",
        "\n",
        "sample_dict = {\n",
        "\n",
        "  'Physics': 82,\n",
        "\n",
        "  'Math': 65,\n",
        "\n",
        "  'history': 75\n",
        "\n",
        "}"
      ],
      "metadata": {
        "id": "KO_HmzORN6fz"
      }
    },
    {
      "cell_type": "code",
      "source": [],
      "metadata": {
        "id": "41JQ2w7OOQNq"
      },
      "execution_count": null,
      "outputs": []
    },
    {
      "cell_type": "markdown",
      "source": [
        "Generate and print a dictionary that contains a number (between 1 and n) in the form (x, x*x)"
      ],
      "metadata": {
        "id": "UO0K-4FoOTgr"
      }
    },
    {
      "cell_type": "code",
      "source": [],
      "metadata": {
        "id": "l-32CJWaOzvL"
      },
      "execution_count": null,
      "outputs": []
    },
    {
      "cell_type": "markdown",
      "metadata": {
        "id": "AXA4jrEOL9hM"
      },
      "source": [
        "###Functions"
      ]
    },
    {
      "cell_type": "markdown",
      "metadata": {
        "id": "WaRms-QfL9hN"
      },
      "source": [
        "Python functions are defined using the `def` keyword. For example:"
      ]
    },
    {
      "cell_type": "code",
      "execution_count": null,
      "metadata": {
        "colab": {
          "base_uri": "https://localhost:8080/"
        },
        "id": "kiMDUr58L9hN",
        "outputId": "13970e5d-70e0-4485-f16e-afd6c986f917"
      },
      "outputs": [
        {
          "output_type": "stream",
          "name": "stdout",
          "text": [
            "negative\n",
            "zero\n",
            "positive\n"
          ]
        }
      ],
      "source": [
        "def sign(x):\n",
        "    if x > 0:\n",
        "        return 'positive'\n",
        "    elif x < 0:\n",
        "        return 'negative'\n",
        "    else:\n",
        "        return 'zero'\n",
        "\n",
        "for x in [-1, 0, 1]:\n",
        "    print(sign(x))"
      ]
    },
    {
      "cell_type": "markdown",
      "metadata": {
        "id": "U-QJFt8TL9hR"
      },
      "source": [
        "We will often define functions to take optional keyword arguments, like this:"
      ]
    },
    {
      "cell_type": "code",
      "execution_count": null,
      "metadata": {
        "colab": {
          "base_uri": "https://localhost:8080/"
        },
        "id": "PfsZ3DazL9hR",
        "outputId": "c97bb6f4-02e7-4023-9a95-2bcaf8492346"
      },
      "outputs": [
        {
          "output_type": "stream",
          "name": "stdout",
          "text": [
            "Hello, Bob!\n",
            "HELLO, FRED\n"
          ]
        }
      ],
      "source": [
        "def hello(name, loud=False):\n",
        "    if loud:\n",
        "        print('HELLO, {}'.format(name.upper()))\n",
        "    else:\n",
        "        print('Hello, {}!'.format(name))\n",
        "\n",
        "hello('Bob')\n",
        "hello('Fred', loud=True)"
      ]
    },
    {
      "cell_type": "code",
      "source": [
        "def isPalindrome(string):\n",
        "\n",
        "    if not string:\n",
        "        return False\n",
        "\n",
        "    string = string.lower()\n",
        "    string1 = string[::-1]\n",
        "\n",
        "    if string == string1:\n",
        "        return True\n",
        "    else:\n",
        "        return False\n",
        "\n",
        "def uniquePalindromes(string):\n",
        "    string=string.lower()\n",
        "    x=[]\n",
        "    y=[]\n",
        "    x=string.split()\n",
        "\n",
        "    for i in x :\n",
        "        if isPalindrome(i):\n",
        "            if i not in y:\n",
        "                y.append(i)\n",
        "\n",
        "    return y\n",
        "\n"
      ],
      "metadata": {
        "id": "PsXCx4S7djfi"
      },
      "execution_count": null,
      "outputs": []
    },
    {
      "cell_type": "code",
      "source": [
        "# Example:\n",
        "print( uniquePalindromes('Madam asked Anna to go out but Anna refused') ) # outputs ['madam', 'anna']\n",
        "print( uniquePalindromes('Palindromes ara also found in Anna and ara studied in recreational mathematics') )\n",
        "# outputs\n",
        "print( uniquePalindromes('Aibohphobia is a joke term used to describe the fear of palindromes') )"
      ],
      "metadata": {
        "colab": {
          "base_uri": "https://localhost:8080/"
        },
        "id": "XGtYEmIzdnsa",
        "outputId": "c3f47fe5-2fcb-4630-fd39-45059c68b5ea"
      },
      "execution_count": null,
      "outputs": [
        {
          "output_type": "stream",
          "name": "stdout",
          "text": [
            "['madam', 'anna']\n",
            "['ara', 'anna']\n",
            "['aibohphobia', 'a']\n"
          ]
        }
      ]
    },
    {
      "cell_type": "markdown",
      "metadata": {
        "id": "ObA9PRtQL9hT"
      },
      "source": [
        "###Classes"
      ]
    },
    {
      "cell_type": "markdown",
      "metadata": {
        "id": "hAzL_lTkL9hU"
      },
      "source": [
        "The syntax for defining classes in Python is straightforward:"
      ]
    },
    {
      "cell_type": "code",
      "execution_count": null,
      "metadata": {
        "colab": {
          "base_uri": "https://localhost:8080/"
        },
        "id": "RWdbaGigL9hU",
        "outputId": "65888666-410b-45bb-dda1-9215a4a03b2d"
      },
      "outputs": [
        {
          "output_type": "stream",
          "name": "stdout",
          "text": [
            "Hello, Fred!\n",
            "HELLO, FRED\n"
          ]
        }
      ],
      "source": [
        "class Greeter:\n",
        "\n",
        "    # Constructor\n",
        "    def __init__(self, name):\n",
        "        self.name = name  # Create an instance variable\n",
        "\n",
        "    # Instance method\n",
        "    def greet(self, loud=False):\n",
        "        if loud:\n",
        "          print('HELLO, {}'.format(self.name.upper()))\n",
        "        else:\n",
        "          print('Hello, {}!'.format(self.name))\n",
        "\n",
        "g = Greeter('Fred')  # Construct an instance of the Greeter class\n",
        "g.greet()            # Call an instance method; prints \"Hello, Fred\"\n",
        "g.greet(loud=True)   # Call an instance method; prints \"HELLO, FRED!\""
      ]
    },
    {
      "cell_type": "markdown",
      "source": [
        "###Exercise of class and function"
      ],
      "metadata": {
        "id": "W-4kuf8YPB-6"
      }
    },
    {
      "cell_type": "markdown",
      "source": [
        "Move all zero digits to end of a given list of numbers:\n",
        "\n",
        "Expected output:\n",
        "\n",
        "Original list:\n",
        "\n",
        "[3, 4, 0, 0, 0, 6, 2, 0, 6, 7, 6, 0, 0, 0, 9, 10, 7, 4, 4, 5, 3, 0, 0, 2, 9, 7, 1]\n",
        "\n",
        "Move all zero digits to end of the said list of numbers:\n",
        "\n",
        "[3, 4, 6, 2, 6, 7, 6, 9, 10, 7, 4, 4, 5, 3, 2, 9, 7, 1, 0, 0, 0, 0, 0, 0, 0, 0, 0]"
      ],
      "metadata": {
        "id": "U_IUgrrAcaPZ"
      }
    },
    {
      "cell_type": "code",
      "source": [],
      "metadata": {
        "id": "JH2xcWIqca3x"
      },
      "execution_count": null,
      "outputs": []
    },
    {
      "cell_type": "markdown",
      "source": [
        "Create a Python class named Student with two attributes student_id, student_name.\n",
        "\n",
        "Next, add a new attribute marks.\n",
        "\n",
        "Create a function to display the entire attribute and their values in Student class."
      ],
      "metadata": {
        "id": "dLSUuzkPPHYK"
      }
    },
    {
      "cell_type": "code",
      "source": [],
      "metadata": {
        "id": "sTcm2opzPjer"
      },
      "execution_count": null,
      "outputs": []
    },
    {
      "cell_type": "markdown",
      "metadata": {
        "id": "3cfrOV4dL9hW"
      },
      "source": [
        "##Numpy"
      ]
    },
    {
      "cell_type": "markdown",
      "metadata": {
        "id": "fY12nHhyL9hX"
      },
      "source": [
        "Numpy is the core library for scientific computing in Python. It provides a high-performance multidimensional array object, and tools for working with these arrays."
      ]
    },
    {
      "cell_type": "markdown",
      "metadata": {
        "id": "lZMyAdqhL9hY"
      },
      "source": [
        "To use Numpy, we first need to import the `numpy` package:"
      ]
    },
    {
      "cell_type": "code",
      "execution_count": null,
      "metadata": {
        "id": "58QdX8BLL9hZ"
      },
      "outputs": [],
      "source": [
        "import numpy as np"
      ]
    },
    {
      "cell_type": "markdown",
      "metadata": {
        "id": "DDx6v1EdL9hb"
      },
      "source": [
        "###Arrays"
      ]
    },
    {
      "cell_type": "markdown",
      "metadata": {
        "id": "f-Zv3f7LL9hc"
      },
      "source": [
        "A numpy array is a grid of values, all of the same type, and is indexed by a tuple of nonnegative integers. The number of dimensions is the rank of the array; the shape of an array is a tuple of integers giving the size of the array along each dimension."
      ]
    },
    {
      "cell_type": "markdown",
      "metadata": {
        "id": "_eMTRnZRL9hc"
      },
      "source": [
        "We can initialize numpy arrays from nested Python lists, and access elements using square brackets:"
      ]
    },
    {
      "cell_type": "code",
      "execution_count": null,
      "metadata": {
        "colab": {
          "base_uri": "https://localhost:8080/"
        },
        "id": "-l3JrGxCL9hc",
        "outputId": "a6598a15-3aef-4395-fc8b-9d1562d9f63c"
      },
      "outputs": [
        {
          "output_type": "stream",
          "name": "stdout",
          "text": [
            "<class 'numpy.ndarray'> (3,) 1 2 3\n",
            "[5 2 3]\n"
          ]
        }
      ],
      "source": [
        "a = np.array([1, 2, 3])  # Create a rank 1 array\n",
        "print(type(a), a.shape, a[0], a[1], a[2])\n",
        "a[0] = 5                 # Change an element of the array\n",
        "print(a)"
      ]
    },
    {
      "cell_type": "code",
      "execution_count": null,
      "metadata": {
        "colab": {
          "base_uri": "https://localhost:8080/"
        },
        "id": "ma6mk-kdL9hh",
        "outputId": "861dd64b-51fd-40dd-ed2b-336e874c0334"
      },
      "outputs": [
        {
          "output_type": "stream",
          "name": "stdout",
          "text": [
            "[[1 2 3]\n",
            " [4 5 6]]\n"
          ]
        }
      ],
      "source": [
        "b = np.array([[1,2,3],[4,5,6]])   # Create a rank 2 array\n",
        "print(b)"
      ]
    },
    {
      "cell_type": "code",
      "execution_count": null,
      "metadata": {
        "colab": {
          "base_uri": "https://localhost:8080/"
        },
        "id": "ymfSHAwtL9hj",
        "outputId": "6f9eb740-0d82-4677-f045-b9ef434594cf"
      },
      "outputs": [
        {
          "output_type": "stream",
          "name": "stdout",
          "text": [
            "(2, 3)\n",
            "1 2 4\n"
          ]
        }
      ],
      "source": [
        "print(b.shape)\n",
        "print(b[0, 0], b[0, 1], b[1, 0])"
      ]
    },
    {
      "cell_type": "markdown",
      "metadata": {
        "id": "F2qwdyvuL9hn"
      },
      "source": [
        "Numpy also provides many functions to create arrays:"
      ]
    },
    {
      "cell_type": "code",
      "execution_count": null,
      "metadata": {
        "colab": {
          "base_uri": "https://localhost:8080/"
        },
        "id": "mVTN_EBqL9hn",
        "outputId": "ee9209d5-ed75-45f2-c5e9-c390fdb069c9"
      },
      "outputs": [
        {
          "output_type": "stream",
          "name": "stdout",
          "text": [
            "[[0. 0.]\n",
            " [0. 0.]]\n"
          ]
        }
      ],
      "source": [
        "a = np.zeros((2,2))  # Create an array of all zeros\n",
        "print(a)"
      ]
    },
    {
      "cell_type": "code",
      "execution_count": null,
      "metadata": {
        "colab": {
          "base_uri": "https://localhost:8080/"
        },
        "id": "skiKlNmlL9h5",
        "outputId": "3e099383-7385-43b0-9c4d-87a21d544219"
      },
      "outputs": [
        {
          "output_type": "stream",
          "name": "stdout",
          "text": [
            "[[1. 1.]]\n"
          ]
        }
      ],
      "source": [
        "b = np.ones((1,2))   # Create an array of all ones\n",
        "print(b)"
      ]
    },
    {
      "cell_type": "code",
      "execution_count": null,
      "metadata": {
        "colab": {
          "base_uri": "https://localhost:8080/"
        },
        "id": "HtFsr03bL9h7",
        "outputId": "6b56c385-29b9-43ae-df69-369b1997f8b3"
      },
      "outputs": [
        {
          "output_type": "stream",
          "name": "stdout",
          "text": [
            "[[7 7]\n",
            " [7 7]]\n"
          ]
        }
      ],
      "source": [
        "c = np.full((2,2), 7) # Create a constant array\n",
        "print(c)"
      ]
    },
    {
      "cell_type": "code",
      "execution_count": null,
      "metadata": {
        "colab": {
          "base_uri": "https://localhost:8080/"
        },
        "id": "-QcALHvkL9h9",
        "outputId": "3787589f-add1-495c-98e8-59c537637d8c"
      },
      "outputs": [
        {
          "output_type": "stream",
          "name": "stdout",
          "text": [
            "[[1. 0.]\n",
            " [0. 1.]]\n"
          ]
        }
      ],
      "source": [
        "d = np.eye(2)        # Create a 2x2 identity matrix\n",
        "print(d)"
      ]
    },
    {
      "cell_type": "code",
      "execution_count": null,
      "metadata": {
        "colab": {
          "base_uri": "https://localhost:8080/"
        },
        "id": "RCpaYg9qL9iA",
        "outputId": "c8f31afd-a19d-4873-9562-f2397fcaf68d"
      },
      "outputs": [
        {
          "output_type": "stream",
          "name": "stdout",
          "text": [
            "[[0.8803269  0.25865381]\n",
            " [0.2666562  0.86335358]]\n"
          ]
        }
      ],
      "source": [
        "e = np.random.random((2,2)) # Create an array filled with random values\n",
        "print(e)"
      ]
    },
    {
      "cell_type": "markdown",
      "metadata": {
        "id": "jI5qcSDfL9iC"
      },
      "source": [
        "###Array indexing"
      ]
    },
    {
      "cell_type": "markdown",
      "metadata": {
        "id": "M-E4MUeVL9iC"
      },
      "source": [
        "Numpy offers several ways to index into arrays."
      ]
    },
    {
      "cell_type": "markdown",
      "metadata": {
        "id": "QYv4JyIEL9iD"
      },
      "source": [
        "Slicing: Similar to Python lists, numpy arrays can be sliced. Since arrays may be multidimensional, you must specify a slice for each dimension of the array:"
      ]
    },
    {
      "cell_type": "code",
      "execution_count": null,
      "metadata": {
        "colab": {
          "base_uri": "https://localhost:8080/"
        },
        "id": "wLWA0udwL9iD",
        "outputId": "075f0e48-bc5d-4134-bfd9-8b2b77690487"
      },
      "outputs": [
        {
          "output_type": "stream",
          "name": "stdout",
          "text": [
            "[[2 3]\n",
            " [6 7]]\n"
          ]
        }
      ],
      "source": [
        "import numpy as np\n",
        "\n",
        "# Create the following rank 2 array with shape (3, 4)\n",
        "# [[ 1  2  3  4]\n",
        "#  [ 5  6  7  8]\n",
        "#  [ 9 10 11 12]]\n",
        "a = np.array([[1,2,3,4], [5,6,7,8], [9,10,11,12]])\n",
        "\n",
        "# Use slicing to pull out the subarray consisting of the first 2 rows\n",
        "# and columns 1 and 2; b is the following array of shape (2, 2):\n",
        "# [[2 3]\n",
        "#  [6 7]]\n",
        "b = a[:2, 1:3]\n",
        "print(b)"
      ]
    },
    {
      "cell_type": "markdown",
      "metadata": {
        "id": "KahhtZKYL9iF"
      },
      "source": [
        "A slice of an array is a view into the same data, so modifying it will modify the original array."
      ]
    },
    {
      "cell_type": "code",
      "execution_count": null,
      "metadata": {
        "colab": {
          "base_uri": "https://localhost:8080/"
        },
        "id": "1kmtaFHuL9iG",
        "outputId": "3a8847b0-e8fc-4d76-c1f9-3f63a4c333f0"
      },
      "outputs": [
        {
          "output_type": "stream",
          "name": "stdout",
          "text": [
            "2\n",
            "77\n"
          ]
        }
      ],
      "source": [
        "print(a[0, 1])\n",
        "b[0, 0] = 77    # b[0, 0] is the same piece of data as a[0, 1]\n",
        "print(a[0, 1])"
      ]
    },
    {
      "cell_type": "markdown",
      "metadata": {
        "id": "_Zcf3zi-L9iI"
      },
      "source": [
        "You can also mix integer indexing with slice indexing. However, doing so will yield an array of lower rank than the original array."
      ]
    },
    {
      "cell_type": "code",
      "execution_count": null,
      "metadata": {
        "colab": {
          "base_uri": "https://localhost:8080/"
        },
        "id": "G6lfbPuxL9iJ",
        "outputId": "1826d398-a653-46f4-85ea-06698444e04d"
      },
      "outputs": [
        {
          "output_type": "stream",
          "name": "stdout",
          "text": [
            "[[ 1  2  3  4]\n",
            " [ 5  6  7  8]\n",
            " [ 9 10 11 12]]\n"
          ]
        }
      ],
      "source": [
        "# Create the following rank 2 array with shape (3, 4)\n",
        "a = np.array([[1,2,3,4], [5,6,7,8], [9,10,11,12]])\n",
        "print(a)"
      ]
    },
    {
      "cell_type": "markdown",
      "metadata": {
        "id": "NCye3NXhL9iL"
      },
      "source": [
        "Two ways of accessing the data in the middle row of the array.\n",
        "Mixing integer indexing with slices yields an array of lower rank,\n",
        "while using only slices yields an array of the same rank as the\n",
        "original array:"
      ]
    },
    {
      "cell_type": "code",
      "execution_count": null,
      "metadata": {
        "colab": {
          "base_uri": "https://localhost:8080/"
        },
        "id": "EOiEMsmNL9iL",
        "outputId": "81c24d18-4a5c-4e80-ad3a-44b68f6439bf"
      },
      "outputs": [
        {
          "output_type": "stream",
          "name": "stdout",
          "text": [
            "[5 6 7 8] (4,)\n",
            "[[5 6 7 8]] (1, 4)\n",
            "[[5 6 7 8]] (1, 4)\n"
          ]
        }
      ],
      "source": [
        "row_r1 = a[1, :]    # Rank 1 view of the second row of a\n",
        "row_r2 = a[1:2, :]  # Rank 2 view of the second row of a\n",
        "row_r3 = a[[1], :]  # Rank 2 view of the second row of a\n",
        "print(row_r1, row_r1.shape)\n",
        "print(row_r2, row_r2.shape)\n",
        "print(row_r3, row_r3.shape)"
      ]
    },
    {
      "cell_type": "code",
      "execution_count": null,
      "metadata": {
        "colab": {
          "base_uri": "https://localhost:8080/"
        },
        "id": "JXu73pfDL9iN",
        "outputId": "f4985965-24fe-475f-9613-14db78472225"
      },
      "outputs": [
        {
          "output_type": "stream",
          "name": "stdout",
          "text": [
            "[ 2  6 10] (3,)\n",
            "\n",
            "[[ 2]\n",
            " [ 6]\n",
            " [10]] (3, 1)\n"
          ]
        }
      ],
      "source": [
        "# We can make the same distinction when accessing columns of an array:\n",
        "col_r1 = a[:, 1]\n",
        "col_r2 = a[:, 1:2]\n",
        "print(col_r1, col_r1.shape)\n",
        "print()\n",
        "print(col_r2, col_r2.shape)"
      ]
    },
    {
      "cell_type": "markdown",
      "metadata": {
        "id": "VP3916bOL9iP"
      },
      "source": [
        "Integer array indexing: When you index into numpy arrays using slicing, the resulting array view will always be a subarray of the original array. In contrast, integer array indexing allows you to construct arbitrary arrays using the data from another array. Here is an example:"
      ]
    },
    {
      "cell_type": "code",
      "execution_count": null,
      "metadata": {
        "colab": {
          "base_uri": "https://localhost:8080/"
        },
        "id": "TBnWonIDL9iP",
        "outputId": "19fcaf08-969b-4d42-a67e-34c103d9c2c4"
      },
      "outputs": [
        {
          "output_type": "stream",
          "name": "stdout",
          "text": [
            "[1 4 5]\n",
            "[1 4 5]\n"
          ]
        }
      ],
      "source": [
        "a = np.array([[1,2], [3, 4], [5, 6]])\n",
        "\n",
        "# An example of integer array indexing.\n",
        "# The returned array will have shape (3,) and\n",
        "print(a[[0, 1, 2], [0, 1, 0]])\n",
        "\n",
        "# The above example of integer array indexing is equivalent to this:\n",
        "print(np.array([a[0, 0], a[1, 1], a[2, 0]]))"
      ]
    },
    {
      "cell_type": "code",
      "execution_count": null,
      "metadata": {
        "colab": {
          "base_uri": "https://localhost:8080/"
        },
        "id": "n7vuati-L9iR",
        "outputId": "5428232b-374f-47e1-897f-a24c6f3c30a2"
      },
      "outputs": [
        {
          "output_type": "stream",
          "name": "stdout",
          "text": [
            "[2 2]\n",
            "[2 2]\n"
          ]
        }
      ],
      "source": [
        "# When using integer array indexing, you can reuse the same\n",
        "# element from the source array:\n",
        "print(a[[0, 0], [1, 1]])\n",
        "\n",
        "# Equivalent to the previous integer array indexing example\n",
        "print(np.array([a[0, 1], a[0, 1]]))"
      ]
    },
    {
      "cell_type": "markdown",
      "metadata": {
        "id": "kaipSLafL9iU"
      },
      "source": [
        "One useful trick with integer array indexing is selecting or mutating one element from each row of a matrix:"
      ]
    },
    {
      "cell_type": "code",
      "execution_count": null,
      "metadata": {
        "colab": {
          "base_uri": "https://localhost:8080/"
        },
        "id": "ehqsV7TXL9iU",
        "outputId": "3e24c6eb-3608-4a05-d4db-db5d57cfed28"
      },
      "outputs": [
        {
          "output_type": "stream",
          "name": "stdout",
          "text": [
            "[[ 1  2  3]\n",
            " [ 4  5  6]\n",
            " [ 7  8  9]\n",
            " [10 11 12]]\n"
          ]
        }
      ],
      "source": [
        "# Create a new array from which we will select elements\n",
        "a = np.array([[1,2,3], [4,5,6], [7,8,9], [10, 11, 12]])\n",
        "print(a)"
      ]
    },
    {
      "cell_type": "code",
      "execution_count": null,
      "metadata": {
        "colab": {
          "base_uri": "https://localhost:8080/"
        },
        "id": "pAPOoqy5L9iV",
        "outputId": "45670e25-3049-41a6-f220-c54b9217131a"
      },
      "outputs": [
        {
          "output_type": "stream",
          "name": "stdout",
          "text": [
            "[ 1  6  7 11]\n"
          ]
        }
      ],
      "source": [
        "# Create an array of indices\n",
        "b = np.array([0, 2, 0, 1])\n",
        "\n",
        "# Select one element from each row of a using the indices in b\n",
        "print(a[np.arange(4), b])  # Prints \"[ 1  6  7 11]\""
      ]
    },
    {
      "cell_type": "code",
      "execution_count": null,
      "metadata": {
        "colab": {
          "base_uri": "https://localhost:8080/"
        },
        "id": "6v1PdI1DL9ib",
        "outputId": "29235906-c34c-4988-c572-cc73558969ce"
      },
      "outputs": [
        {
          "output_type": "stream",
          "name": "stdout",
          "text": [
            "[[11  2  3]\n",
            " [ 4  5 16]\n",
            " [17  8  9]\n",
            " [10 21 12]]\n"
          ]
        }
      ],
      "source": [
        "# Mutate one element from each row of a using the indices in b\n",
        "a[np.arange(4), b] += 10\n",
        "print(a)"
      ]
    },
    {
      "cell_type": "markdown",
      "metadata": {
        "id": "kaE8dBGgL9id"
      },
      "source": [
        "Boolean array indexing: Boolean array indexing lets you pick out arbitrary elements of an array. Frequently this type of indexing is used to select the elements of an array that satisfy some condition. Here is an example:"
      ]
    },
    {
      "cell_type": "code",
      "execution_count": null,
      "metadata": {
        "colab": {
          "base_uri": "https://localhost:8080/"
        },
        "id": "32PusjtKL9id",
        "outputId": "1d4ebb35-018f-4cdf-c1fd-38d149d4aa99"
      },
      "outputs": [
        {
          "output_type": "stream",
          "name": "stdout",
          "text": [
            "[[False False]\n",
            " [ True  True]\n",
            " [ True  True]]\n"
          ]
        }
      ],
      "source": [
        "import numpy as np\n",
        "\n",
        "a = np.array([[1,2], [3, 4], [5, 6]])\n",
        "\n",
        "bool_idx = (a > 2)  # Find the elements of a that are bigger than 2;\n",
        "                    # this returns a numpy array of Booleans of the same\n",
        "                    # shape as a, where each slot of bool_idx tells\n",
        "                    # whether that element of a is > 2.\n",
        "\n",
        "print(bool_idx)"
      ]
    },
    {
      "cell_type": "code",
      "execution_count": null,
      "metadata": {
        "colab": {
          "base_uri": "https://localhost:8080/"
        },
        "id": "cb2IRMXaL9if",
        "outputId": "a10a4747-77e6-459e-a2f3-1fafe8e4b0d2"
      },
      "outputs": [
        {
          "output_type": "stream",
          "name": "stdout",
          "text": [
            "[3 4 5 6]\n",
            "[3 4 5 6]\n"
          ]
        }
      ],
      "source": [
        "# We use boolean array indexing to construct a rank 1 array\n",
        "# consisting of the elements of a corresponding to the True values\n",
        "# of bool_idx\n",
        "print(a[bool_idx])\n",
        "\n",
        "# We can do all of the above in a single concise statement:\n",
        "print(a[a > 2])"
      ]
    },
    {
      "cell_type": "markdown",
      "metadata": {
        "id": "CdofMonAL9ih"
      },
      "source": [
        "For brevity we have left out a lot of details about numpy array indexing; if you want to know more you should read the documentation."
      ]
    },
    {
      "cell_type": "markdown",
      "metadata": {
        "id": "jTctwqdQL9ih"
      },
      "source": [
        "###Datatypes"
      ]
    },
    {
      "cell_type": "markdown",
      "metadata": {
        "id": "kSZQ1WkIL9ih"
      },
      "source": [
        "Every numpy array is a grid of elements of the same type. Numpy provides a large set of numeric datatypes that you can use to construct arrays. Numpy tries to guess a datatype when you create an array, but functions that construct arrays usually also include an optional argument to explicitly specify the datatype. Here is an example:"
      ]
    },
    {
      "cell_type": "code",
      "execution_count": null,
      "metadata": {
        "colab": {
          "base_uri": "https://localhost:8080/"
        },
        "id": "4za4O0m5L9ih",
        "outputId": "57465bd3-d869-46f4-a993-afda814b4709"
      },
      "outputs": [
        {
          "output_type": "stream",
          "name": "stdout",
          "text": [
            "int64 float64 int64\n"
          ]
        }
      ],
      "source": [
        "x = np.array([1, 2])  # Let numpy choose the datatype\n",
        "y = np.array([1.0, 2.0])  # Let numpy choose the datatype\n",
        "z = np.array([1, 2], dtype=np.int64)  # Force a particular datatype\n",
        "\n",
        "print(x.dtype, y.dtype, z.dtype)"
      ]
    },
    {
      "cell_type": "markdown",
      "metadata": {
        "id": "RLVIsZQpL9ik"
      },
      "source": [
        "You can read all about numpy datatypes in the [documentation](http://docs.scipy.org/doc/numpy/reference/arrays.dtypes.html)."
      ]
    },
    {
      "cell_type": "markdown",
      "metadata": {
        "id": "TuB-fdhIL9ik"
      },
      "source": [
        "###Array math"
      ]
    },
    {
      "cell_type": "markdown",
      "metadata": {
        "id": "18e8V8elL9ik"
      },
      "source": [
        "Basic mathematical functions operate elementwise on arrays, and are available both as operator overloads and as functions in the numpy module:"
      ]
    },
    {
      "cell_type": "code",
      "execution_count": null,
      "metadata": {
        "colab": {
          "base_uri": "https://localhost:8080/"
        },
        "id": "gHKvBrSKL9il",
        "outputId": "20e767d4-f169-47f9-d0cb-72e8aa419895"
      },
      "outputs": [
        {
          "output_type": "stream",
          "name": "stdout",
          "text": [
            "[[ 6.  8.]\n",
            " [10. 12.]]\n",
            "[[ 6.  8.]\n",
            " [10. 12.]]\n"
          ]
        }
      ],
      "source": [
        "x = np.array([[1,2],[3,4]], dtype=np.float64)\n",
        "y = np.array([[5,6],[7,8]], dtype=np.float64)\n",
        "\n",
        "# Elementwise sum; both produce the array\n",
        "print(x + y)\n",
        "print(np.add(x, y))"
      ]
    },
    {
      "cell_type": "code",
      "execution_count": null,
      "metadata": {
        "colab": {
          "base_uri": "https://localhost:8080/"
        },
        "id": "1fZtIAMxL9in",
        "outputId": "bae4ac06-8f8a-4594-eb6b-bf6bf0b9aefb"
      },
      "outputs": [
        {
          "output_type": "stream",
          "name": "stdout",
          "text": [
            "[[-4. -4.]\n",
            " [-4. -4.]]\n",
            "[[-4. -4.]\n",
            " [-4. -4.]]\n"
          ]
        }
      ],
      "source": [
        "# Elementwise difference; both produce the array\n",
        "print(x - y)\n",
        "print(np.subtract(x, y))"
      ]
    },
    {
      "cell_type": "code",
      "execution_count": null,
      "metadata": {
        "colab": {
          "base_uri": "https://localhost:8080/"
        },
        "id": "nil4AScML9io",
        "outputId": "4162137d-5d13-4821-b083-9fb0a88902a7"
      },
      "outputs": [
        {
          "output_type": "stream",
          "name": "stdout",
          "text": [
            "[[ 5. 12.]\n",
            " [21. 32.]]\n",
            "[[ 5. 12.]\n",
            " [21. 32.]]\n"
          ]
        }
      ],
      "source": [
        "# Elementwise product; both produce the array\n",
        "print(x * y)\n",
        "print(np.multiply(x, y))"
      ]
    },
    {
      "cell_type": "code",
      "execution_count": null,
      "metadata": {
        "colab": {
          "base_uri": "https://localhost:8080/"
        },
        "id": "0JoA4lH6L9ip",
        "outputId": "e71f84b2-d3e5-4780-da15-7c01e0c5cd7f"
      },
      "outputs": [
        {
          "output_type": "stream",
          "name": "stdout",
          "text": [
            "[[0.2        0.33333333]\n",
            " [0.42857143 0.5       ]]\n",
            "[[0.2        0.33333333]\n",
            " [0.42857143 0.5       ]]\n"
          ]
        }
      ],
      "source": [
        "# Elementwise division; both produce the array\n",
        "# [[ 0.2         0.33333333]\n",
        "#  [ 0.42857143  0.5       ]]\n",
        "print(x / y)\n",
        "print(np.divide(x, y))"
      ]
    },
    {
      "cell_type": "code",
      "execution_count": null,
      "metadata": {
        "colab": {
          "base_uri": "https://localhost:8080/"
        },
        "id": "g0iZuA6bL9ir",
        "outputId": "e4180810-8a9d-4d42-a0ee-6e9810cecb73"
      },
      "outputs": [
        {
          "output_type": "stream",
          "name": "stdout",
          "text": [
            "[[1.         1.41421356]\n",
            " [1.73205081 2.        ]]\n"
          ]
        }
      ],
      "source": [
        "# Elementwise square root; produces the array\n",
        "# [[ 1.          1.41421356]\n",
        "#  [ 1.73205081  2.        ]]\n",
        "print(np.sqrt(x))"
      ]
    },
    {
      "cell_type": "code",
      "execution_count": null,
      "metadata": {
        "colab": {
          "base_uri": "https://localhost:8080/"
        },
        "id": "I3FnmoSeL9iu",
        "outputId": "0bc7973a-c676-4a36-a104-68ddc33c39cc"
      },
      "outputs": [
        {
          "output_type": "stream",
          "name": "stdout",
          "text": [
            "219\n",
            "219\n"
          ]
        }
      ],
      "source": [
        "x = np.array([[1,2],[3,4]])\n",
        "y = np.array([[5,6],[7,8]])\n",
        "\n",
        "v = np.array([9,10])\n",
        "w = np.array([11, 12])\n",
        "\n",
        "# Inner product of vectors; both produce 219\n",
        "print(v.dot(w))\n",
        "print(np.dot(v, w))"
      ]
    },
    {
      "cell_type": "markdown",
      "metadata": {
        "id": "vmxPbrHASVeA"
      },
      "source": [
        "You can also use the `@` operator which is equivalent to numpy's `dot` operator."
      ]
    },
    {
      "cell_type": "code",
      "execution_count": null,
      "metadata": {
        "colab": {
          "base_uri": "https://localhost:8080/"
        },
        "id": "vyrWA-mXSdtt",
        "outputId": "cd0df98b-4a2a-4038-944d-e7dc7a2d54ab"
      },
      "outputs": [
        {
          "output_type": "stream",
          "name": "stdout",
          "text": [
            "219\n"
          ]
        }
      ],
      "source": [
        "print(v @ w)"
      ]
    },
    {
      "cell_type": "code",
      "execution_count": null,
      "metadata": {
        "colab": {
          "base_uri": "https://localhost:8080/"
        },
        "id": "zvUODeTxL9iw",
        "outputId": "5aa6fc45-8670-4b87-ff63-8290b22da2fe"
      },
      "outputs": [
        {
          "output_type": "stream",
          "name": "stdout",
          "text": [
            "[29 67]\n",
            "[29 67]\n",
            "[29 67]\n"
          ]
        }
      ],
      "source": [
        "# Matrix / vector product; both produce the rank 1 array [29 67]\n",
        "print(x.dot(v))\n",
        "print(np.dot(x, v))\n",
        "print(x @ v)"
      ]
    },
    {
      "cell_type": "code",
      "execution_count": null,
      "metadata": {
        "colab": {
          "base_uri": "https://localhost:8080/"
        },
        "id": "3V_3NzNEL9iy",
        "outputId": "57a9bf97-9e8a-45c1-e9cf-98886ff16736"
      },
      "outputs": [
        {
          "output_type": "stream",
          "name": "stdout",
          "text": [
            "[[19 22]\n",
            " [43 50]]\n",
            "[[19 22]\n",
            " [43 50]]\n",
            "[[19 22]\n",
            " [43 50]]\n"
          ]
        }
      ],
      "source": [
        "# Matrix / matrix product; both produce the rank 2 array\n",
        "# [[19 22]\n",
        "#  [43 50]]\n",
        "print(x.dot(y))\n",
        "print(np.dot(x, y))\n",
        "print(x @ y)"
      ]
    },
    {
      "cell_type": "markdown",
      "metadata": {
        "id": "FbE-1If_L9i0"
      },
      "source": [
        "Numpy provides many useful functions for performing computations on arrays; one of the most useful is `sum`:"
      ]
    },
    {
      "cell_type": "code",
      "execution_count": null,
      "metadata": {
        "colab": {
          "base_uri": "https://localhost:8080/"
        },
        "id": "DZUdZvPrL9i0",
        "outputId": "64377c36-a650-48a2-f7c7-6c9bd5bebe74"
      },
      "outputs": [
        {
          "output_type": "stream",
          "name": "stdout",
          "text": [
            "10\n",
            "[4 6]\n",
            "[3 7]\n"
          ]
        }
      ],
      "source": [
        "x = np.array([[1,2],[3,4]])\n",
        "\n",
        "print(np.sum(x))  # Compute sum of all elements; prints \"10\"\n",
        "print(np.sum(x, axis=0))  # Compute sum of each column; prints \"[4 6]\"\n",
        "print(np.sum(x, axis=1))  # Compute sum of each row; prints \"[3 7]\""
      ]
    },
    {
      "cell_type": "markdown",
      "metadata": {
        "id": "ahdVW4iUL9i3"
      },
      "source": [
        "You can find the full list of mathematical functions provided by numpy in the [documentation](http://docs.scipy.org/doc/numpy/reference/routines.math.html).\n",
        "\n",
        "Apart from computing mathematical functions using arrays, we frequently need to reshape or otherwise manipulate data in arrays. The simplest example of this type of operation is transposing a matrix; to transpose a matrix, simply use the T attribute of an array object:"
      ]
    },
    {
      "cell_type": "code",
      "execution_count": null,
      "metadata": {
        "colab": {
          "base_uri": "https://localhost:8080/"
        },
        "id": "63Yl1f3oL9i3",
        "outputId": "bff0dd47-78ba-4c41-ec5d-bc2d117f5981"
      },
      "outputs": [
        {
          "output_type": "stream",
          "name": "stdout",
          "text": [
            "[[1 2]\n",
            " [3 4]]\n",
            "transpose\n",
            " [[1 3]\n",
            " [2 4]]\n"
          ]
        }
      ],
      "source": [
        "print(x)\n",
        "print(\"transpose\\n\", x.T)"
      ]
    },
    {
      "cell_type": "code",
      "execution_count": null,
      "metadata": {
        "colab": {
          "base_uri": "https://localhost:8080/"
        },
        "id": "mkk03eNIL9i4",
        "outputId": "03d2e829-56ae-443b-efec-b2a76cd1134b"
      },
      "outputs": [
        {
          "output_type": "stream",
          "name": "stdout",
          "text": [
            "[[1 2 3]]\n",
            "transpose\n",
            " [[1]\n",
            " [2]\n",
            " [3]]\n"
          ]
        }
      ],
      "source": [
        "v = np.array([[1,2,3]])\n",
        "print(v )\n",
        "print(\"transpose\\n\", v.T)"
      ]
    },
    {
      "cell_type": "markdown",
      "metadata": {
        "id": "REfLrUTcL9i7"
      },
      "source": [
        "###Broadcasting"
      ]
    },
    {
      "cell_type": "markdown",
      "metadata": {
        "id": "EygGAMWqL9i7"
      },
      "source": [
        "Broadcasting is a powerful mechanism that allows numpy to work with arrays of different shapes when performing arithmetic operations. Frequently we have a smaller array and a larger array, and we want to use the smaller array multiple times to perform some operation on the larger array.\n",
        "\n",
        "For example, suppose that we want to add a constant vector to each row of a matrix. We could do it like this:"
      ]
    },
    {
      "cell_type": "code",
      "execution_count": null,
      "metadata": {
        "colab": {
          "base_uri": "https://localhost:8080/"
        },
        "id": "WEEvkV1ZL9i7",
        "outputId": "2ec79f28-c71a-4b60-ae05-5820a042a105"
      },
      "outputs": [
        {
          "output_type": "stream",
          "name": "stdout",
          "text": [
            "[[ 2  2  4]\n",
            " [ 5  5  7]\n",
            " [ 8  8 10]\n",
            " [11 11 13]]\n"
          ]
        }
      ],
      "source": [
        "# We will add the vector v to each row of the matrix x,\n",
        "# storing the result in the matrix y\n",
        "x = np.array([[1,2,3], [4,5,6], [7,8,9], [10, 11, 12]])\n",
        "v = np.array([1, 0, 1])\n",
        "y = np.empty_like(x)   # Create an empty matrix with the same shape as x\n",
        "\n",
        "# Add the vector v to each row of the matrix x with an explicit loop\n",
        "for i in range(4):\n",
        "    y[i, :] = x[i, :] + v\n",
        "\n",
        "print(y)"
      ]
    },
    {
      "cell_type": "markdown",
      "metadata": {
        "id": "2OlXXupEL9i-"
      },
      "source": [
        "This works; however when the matrix `x` is very large, computing an explicit loop in Python could be slow. Note that adding the vector v to each row of the matrix `x` is equivalent to forming a matrix `vv` by stacking multiple copies of `v` vertically, then performing elementwise summation of `x` and `vv`. We could implement this approach like this:"
      ]
    },
    {
      "cell_type": "code",
      "execution_count": null,
      "metadata": {
        "colab": {
          "base_uri": "https://localhost:8080/"
        },
        "id": "vS7UwAQQL9i-",
        "outputId": "49e0ce9e-ff19-4ebc-c7b9-c01be7a6663e"
      },
      "outputs": [
        {
          "output_type": "stream",
          "name": "stdout",
          "text": [
            "[[1 0 1]\n",
            " [1 0 1]\n",
            " [1 0 1]\n",
            " [1 0 1]]\n"
          ]
        }
      ],
      "source": [
        "vv = np.tile(v, (4, 1))  # Stack 4 copies of v on top of each other\n",
        "print(vv)                # Prints \"[[1 0 1]\n",
        "                         #          [1 0 1]\n",
        "                         #          [1 0 1]\n",
        "                         #          [1 0 1]]\""
      ]
    },
    {
      "cell_type": "code",
      "execution_count": null,
      "metadata": {
        "colab": {
          "base_uri": "https://localhost:8080/"
        },
        "id": "N0hJphSIL9jA",
        "outputId": "170d8283-1882-4fde-ac43-559515225bc6"
      },
      "outputs": [
        {
          "output_type": "stream",
          "name": "stdout",
          "text": [
            "[[ 2  2  4]\n",
            " [ 5  5  7]\n",
            " [ 8  8 10]\n",
            " [11 11 13]]\n"
          ]
        }
      ],
      "source": [
        "y = x + vv  # Add x and vv elementwise\n",
        "print(y)"
      ]
    },
    {
      "cell_type": "markdown",
      "metadata": {
        "id": "zHos6RJnL9jB"
      },
      "source": [
        "Numpy broadcasting allows us to perform this computation without actually creating multiple copies of v. Consider this version, using broadcasting:"
      ]
    },
    {
      "cell_type": "code",
      "execution_count": null,
      "metadata": {
        "colab": {
          "base_uri": "https://localhost:8080/"
        },
        "id": "vnYFb-gYL9jC",
        "outputId": "31e34fc8-a2e2-4856-cd9e-383f0ec1da3b"
      },
      "outputs": [
        {
          "output_type": "stream",
          "name": "stdout",
          "text": [
            "[[ 2  2  4]\n",
            " [ 5  5  7]\n",
            " [ 8  8 10]\n",
            " [11 11 13]]\n"
          ]
        }
      ],
      "source": [
        "import numpy as np\n",
        "\n",
        "# We will add the vector v to each row of the matrix x,\n",
        "# storing the result in the matrix y\n",
        "x = np.array([[1,2,3], [4,5,6], [7,8,9], [10, 11, 12]])\n",
        "v = np.array([1, 0, 1])\n",
        "y = x + v  # Add v to each row of x using broadcasting\n",
        "print(y)"
      ]
    },
    {
      "cell_type": "markdown",
      "metadata": {
        "id": "08YyIURKL9jH"
      },
      "source": [
        "The line `y = x + v` works even though `x` has shape `(4, 3)` and `v` has shape `(3,)` due to broadcasting; this line works as if v actually had shape `(4, 3)`, where each row was a copy of `v`, and the sum was performed elementwise.\n",
        "\n",
        "Broadcasting two arrays together follows these rules:\n",
        "\n",
        "1. If the arrays do not have the same rank, prepend the shape of the lower rank array with 1s until both shapes have the same length.\n",
        "2. The two arrays are said to be compatible in a dimension if they have the same size in the dimension, or if one of the arrays has size 1 in that dimension.\n",
        "3. The arrays can be broadcast together if they are compatible in all dimensions.\n",
        "4. After broadcasting, each array behaves as if it had shape equal to the elementwise maximum of shapes of the two input arrays.\n",
        "5. In any dimension where one array had size 1 and the other array had size greater than 1, the first array behaves as if it were copied along that dimension\n",
        "\n",
        "If this explanation does not make sense, try reading the explanation from the [documentation](http://docs.scipy.org/doc/numpy/user/basics.broadcasting.html) or this [explanation](http://wiki.scipy.org/EricsBroadcastingDoc).\n",
        "\n",
        "Functions that support broadcasting are known as universal functions. You can find the list of all universal functions in the [documentation](http://docs.scipy.org/doc/numpy/reference/ufuncs.html#available-ufuncs).\n",
        "\n",
        "Here are some applications of broadcasting:"
      ]
    },
    {
      "cell_type": "code",
      "execution_count": null,
      "metadata": {
        "colab": {
          "base_uri": "https://localhost:8080/"
        },
        "id": "EmQnwoM9L9jH",
        "outputId": "d065b2e8-a595-404a-91f4-777ee9e90be8"
      },
      "outputs": [
        {
          "output_type": "stream",
          "name": "stdout",
          "text": [
            "[[ 4  5]\n",
            " [ 8 10]\n",
            " [12 15]]\n"
          ]
        }
      ],
      "source": [
        "# Compute outer product of vectors\n",
        "v = np.array([1,2,3])  # v has shape (3,)\n",
        "w = np.array([4,5])    # w has shape (2,)\n",
        "# To compute an outer product, we first reshape v to be a column\n",
        "# vector of shape (3, 1); we can then broadcast it against w to yield\n",
        "# an output of shape (3, 2), which is the outer product of v and w:\n",
        "\n",
        "print(np.reshape(v, (3, 1)) * w)"
      ]
    },
    {
      "cell_type": "code",
      "execution_count": null,
      "metadata": {
        "colab": {
          "base_uri": "https://localhost:8080/"
        },
        "id": "PgotmpcnL9jK",
        "outputId": "f8ac1e10-f990-4bdf-c36b-e8383fc396cb"
      },
      "outputs": [
        {
          "output_type": "stream",
          "name": "stdout",
          "text": [
            "[[2 4 6]\n",
            " [5 7 9]]\n"
          ]
        }
      ],
      "source": [
        "# Add a vector to each row of a matrix\n",
        "x = np.array([[1,2,3], [4,5,6]])\n",
        "# x has shape (2, 3) and v has shape (3,) so they broadcast to (2, 3),\n",
        "# giving the following matrix:\n",
        "\n",
        "print(x + v)"
      ]
    },
    {
      "cell_type": "code",
      "execution_count": null,
      "metadata": {
        "colab": {
          "base_uri": "https://localhost:8080/"
        },
        "id": "T5hKS1QaL9jK",
        "outputId": "6ca2c643-f605-4957-9d6f-22d3cd4ceec7"
      },
      "outputs": [
        {
          "output_type": "stream",
          "name": "stdout",
          "text": [
            "[[ 5  6  7]\n",
            " [ 9 10 11]]\n"
          ]
        }
      ],
      "source": [
        "# Add a vector to each column of a matrix\n",
        "# x has shape (2, 3) and w has shape (2,).\n",
        "# If we transpose x then it has shape (3, 2) and can be broadcast\n",
        "# against w to yield a result of shape (3, 2); transposing this result\n",
        "# yields the final result of shape (2, 3) which is the matrix x with\n",
        "# the vector w added to each column. Gives the following matrix:\n",
        "\n",
        "print((x.T + w).T)"
      ]
    },
    {
      "cell_type": "code",
      "execution_count": null,
      "metadata": {
        "colab": {
          "base_uri": "https://localhost:8080/"
        },
        "id": "JDUrZUl6L9jN",
        "outputId": "e16b4533-222d-4c31-ab3c-0926f56deae2"
      },
      "outputs": [
        {
          "output_type": "stream",
          "name": "stdout",
          "text": [
            "[[ 5  6  7]\n",
            " [ 9 10 11]]\n"
          ]
        }
      ],
      "source": [
        "# Another solution is to reshape w to be a row vector of shape (2, 1);\n",
        "# we can then broadcast it directly against x to produce the same\n",
        "# output.\n",
        "print(x + np.reshape(w, (2, 1)))"
      ]
    },
    {
      "cell_type": "code",
      "execution_count": null,
      "metadata": {
        "colab": {
          "base_uri": "https://localhost:8080/"
        },
        "id": "VzrEo4KGL9jP",
        "outputId": "f3f8e2da-534d-4ed4-ffcc-39e3dda908cb"
      },
      "outputs": [
        {
          "output_type": "stream",
          "name": "stdout",
          "text": [
            "[[ 2  4  6]\n",
            " [ 8 10 12]]\n"
          ]
        }
      ],
      "source": [
        "# Multiply a matrix by a constant:\n",
        "# x has shape (2, 3). Numpy treats scalars as arrays of shape ();\n",
        "# these can be broadcast together to shape (2, 3), producing the\n",
        "# following array:\n",
        "print(x * 2)"
      ]
    },
    {
      "cell_type": "markdown",
      "metadata": {
        "id": "89e2FXxFL9jQ"
      },
      "source": [
        "Broadcasting typically makes your code more concise and faster, so you should strive to use it where possible."
      ]
    },
    {
      "cell_type": "markdown",
      "metadata": {
        "id": "iF3ZtwVNL9jQ"
      },
      "source": [
        "This brief overview has touched on many of the important things that you need to know about numpy, but is far from complete. Check out the [numpy reference](http://docs.scipy.org/doc/numpy/reference/) to find out much more about numpy."
      ]
    },
    {
      "cell_type": "markdown",
      "source": [
        "###Exercise on numpy"
      ],
      "metadata": {
        "id": "qQgLREhrR0VC"
      }
    },
    {
      "cell_type": "markdown",
      "source": [
        "create a 3x3 matrix with values ranging from 2 to 10."
      ],
      "metadata": {
        "id": "qN3Chto3SEAz"
      }
    },
    {
      "cell_type": "code",
      "source": [],
      "metadata": {
        "id": "nA8cOyJ0SGRJ"
      },
      "execution_count": null,
      "outputs": []
    },
    {
      "cell_type": "markdown",
      "source": [
        "Write a NumPy program (using NumPy) to sum of all the multiples of 3 or 5 below 100.\n",
        "\n",
        "Expected Output:\n",
        "[ 3 5 6 9 10 12 15 18 20 21 24 25 27 30 33 35 36 39 40 42 45 48 50 51 54\n",
        "55 57 60 63 65 66 69 70 72 75 78 80 81 84 85 87 90 93 95 96 99]\n",
        "\n",
        "2318"
      ],
      "metadata": {
        "id": "HE4sUEzrSKwL"
      }
    },
    {
      "cell_type": "code",
      "source": [
        "\n"
      ],
      "metadata": {
        "id": "qEDMGuyfSkhq"
      },
      "execution_count": null,
      "outputs": []
    },
    {
      "cell_type": "markdown",
      "metadata": {
        "id": "tEINf4bEL9jR"
      },
      "source": [
        "##Matplotlib"
      ]
    },
    {
      "cell_type": "markdown",
      "metadata": {
        "id": "0hgVWLaXL9jR"
      },
      "source": [
        "Matplotlib is a plotting library. In this section give a brief introduction to the `matplotlib.pyplot` module"
      ]
    },
    {
      "cell_type": "code",
      "execution_count": null,
      "metadata": {
        "id": "cmh_7c6KL9jR"
      },
      "outputs": [],
      "source": [
        "import matplotlib.pyplot as plt"
      ]
    },
    {
      "cell_type": "markdown",
      "metadata": {
        "id": "jOsaA5hGL9jS"
      },
      "source": [
        "By running this special iPython command, we will be displaying plots inline:"
      ]
    },
    {
      "cell_type": "code",
      "execution_count": null,
      "metadata": {
        "id": "ijpsmwGnL9jT"
      },
      "outputs": [],
      "source": [
        "%matplotlib inline"
      ]
    },
    {
      "cell_type": "markdown",
      "metadata": {
        "id": "U5Z_oMoLL9jV"
      },
      "source": [
        "###Plotting"
      ]
    },
    {
      "cell_type": "markdown",
      "metadata": {
        "id": "6QyFJ7dhL9jV"
      },
      "source": [
        "The most important function in `matplotlib` is plot, which allows you to plot 2D data. Here is a simple example:"
      ]
    },
    {
      "cell_type": "code",
      "execution_count": null,
      "metadata": {
        "colab": {
          "base_uri": "https://localhost:8080/",
          "height": 283
        },
        "id": "pua52BGeL9jW",
        "outputId": "f36deb10-aa0a-45cc-c0c5-3af7d0bdbd0e"
      },
      "outputs": [
        {
          "output_type": "execute_result",
          "data": {
            "text/plain": [
              "[<matplotlib.lines.Line2D at 0x7f069c7efa10>]"
            ]
          },
          "metadata": {},
          "execution_count": 96
        },
        {
          "output_type": "display_data",
          "data": {
            "text/plain": [
              "<Figure size 432x288 with 1 Axes>"
            ],
            "image/png": "[encoded data removed]"
          },
          "metadata": {
            "needs_background": "light"
          }
        }
      ],
      "source": [
        "# Compute the x and y coordinates for points on a sine curve\n",
        "x = np.arange(0, 3 * np.pi, 0.1)\n",
        "y = np.sin(x)\n",
        "\n",
        "# Plot the points using matplotlib\n",
        "plt.plot(x, y)"
      ]
    },
    {
      "cell_type": "markdown",
      "metadata": {
        "id": "9W2VAcLiL9jX"
      },
      "source": [
        "With just a little bit of extra work we can easily plot multiple lines at once, and add a title, legend, and axis labels:"
      ]
    },
    {
      "cell_type": "code",
      "execution_count": null,
      "metadata": {
        "colab": {
          "base_uri": "https://localhost:8080/",
          "height": 313
        },
        "id": "TfCQHJ5AL9jY",
        "outputId": "698b26f9-43dd-4f70-d69e-7b9e08a24d32"
      },
      "outputs": [
        {
          "output_type": "execute_result",
          "data": {
            "text/plain": [
              "<matplotlib.legend.Legend at 0x7f0695755cd0>"
            ]
          },
          "metadata": {},
          "execution_count": 97
        },
        {
          "output_type": "display_data",
          "data": {
            "text/plain": [
              "<Figure size 432x288 with 1 Axes>"
            ],
            "image/png": "[encoded data removed]"
          },
          "metadata": {
            "needs_background": "light"
          }
        }
      ],
      "source": [
        "y_sin = np.sin(x)\n",
        "y_cos = np.cos(x)\n",
        "\n",
        "# Plot the points using matplotlib\n",
        "plt.plot(x, y_sin)\n",
        "plt.plot(x, y_cos)\n",
        "plt.xlabel('x axis label')\n",
        "plt.ylabel('y axis label')\n",
        "plt.title('Sine and Cosine')\n",
        "plt.legend(['Sine', 'Cosine'])"
      ]
    },
    {
      "cell_type": "markdown",
      "metadata": {
        "id": "R5IeAY03L9ja"
      },
      "source": [
        "###Subplots"
      ]
    },
    {
      "cell_type": "markdown",
      "metadata": {
        "id": "CfUzwJg0L9ja"
      },
      "source": [
        "You can plot different things in the same figure using the subplot function. Here is an example:"
      ]
    },
    {
      "cell_type": "code",
      "execution_count": null,
      "metadata": {
        "colab": {
          "base_uri": "https://localhost:8080/",
          "height": 281
        },
        "id": "dM23yGH9L9ja",
        "outputId": "0936beb4-2c48-498d-ac92-f7e2b3badc13"
      },
      "outputs": [
        {
          "output_type": "display_data",
          "data": {
            "text/plain": [
              "<Figure size 432x288 with 2 Axes>"
            ],
            "image/png": "[encoded data removed]"
          },
          "metadata": {
            "needs_background": "light"
          }
        }
      ],
      "source": [
        "# Compute the x and y coordinates for points on sine and cosine curves\n",
        "x = np.arange(0, 3 * np.pi, 0.1)\n",
        "y_sin = np.sin(x)\n",
        "y_cos = np.cos(x)\n",
        "\n",
        "# Set up a subplot grid that has height 2 and width 1,\n",
        "# and set the first such subplot as active.\n",
        "plt.subplot(2, 1, 1)\n",
        "\n",
        "# Make the first plot\n",
        "plt.plot(x, y_sin)\n",
        "plt.title('Sine')\n",
        "\n",
        "# Set the second subplot as active, and make the second plot.\n",
        "plt.subplot(2, 1, 2)\n",
        "plt.plot(x, y_cos)\n",
        "plt.title('Cosine')\n",
        "\n",
        "# Show the figure.\n",
        "plt.show()"
      ]
    },
    {
      "cell_type": "markdown",
      "metadata": {
        "id": "gLtsST5SL9jc"
      },
      "source": [
        "You can read much more about the `subplot` function in the [documentation](http://matplotlib.org/api/pyplot_api.html#matplotlib.pyplot.subplot)."
      ]
    },
    {
      "cell_type": "markdown",
      "source": [
        "#### Matplotlib exercise"
      ],
      "metadata": {
        "id": "jk-dvQUWTF9S"
      }
    },
    {
      "cell_type": "markdown",
      "source": [
        "Write a Python program to draw a line using given axis values, with suitable label in the x axis, y axis and a title.\n",
        "\n",
        "Test Data:\n",
        "\n",
        "x y\n",
        "\n",
        "1 2\n",
        "\n",
        "2 4\n",
        "\n",
        "3 1\n",
        "\n",
        "Output shown in the following screenshot:\n",
        "\n",
        "![index.png](data:image/png;base64,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)\n"
      ],
      "metadata": {
        "id": "IZpkN5lHTWhK"
      }
    },
    {
      "cell_type": "code",
      "execution_count": null,
      "metadata": {
        "id": "eJXA5AWSL9jc"
      },
      "outputs": [],
      "source": []
    },
    {
      "cell_type": "markdown",
      "source": [
        "Plot two or more lines on same plot with suitable legends of each line.\n",
        "\n",
        "Output shown in the following screenshot:\n",
        "\n",
        "![index.png](data:image/png;base64,iVBORw0KGgoAAAANSUhEUgAAAX4AAAEWCAYAAABhffzLAAAABHNCSVQICAgIfAhkiAAAAAlwSFlzAAALEgAACxIB0t1+/AAAADh0RVh0U29mdHdhcmUAbWF0cGxvdGxpYiB2ZXJzaW9uMy4yLjIsIGh0dHA6Ly9tYXRwbG90bGliLm9yZy+WH4yJAAAgAElEQVR4nOzddXgU59fG8e9JCATX4O5uCRKgRrFCiwcpWqxYvVD9VanRlgotFIq7Q4EWihQpToI7wYMTCBIIsef9YyZ9U5pAZHdn5flcFxdrM3PWTmZH7keUUmiapmmew8vqAjRN0zTH0o1f0zTNw+jGr2ma5mF049c0TfMwuvFrmqZ5GN34NU3TPIxu/B5GRHqLyKZE1++ISGkra/IUIlJSRJSIZHDwch/6HovIaRFpYucauonIqnRMv15E+iVzX5pfVxH5SERmpLUue7H3e+Kyjd/8MCf8ixeRe4mud7O6PlehlMqmlDppdR3av9myISV+j0VkioiMsMV8U1nDTKVUs4TrZqMu6+g6NIND1zxsSSmVLeGyiJwG+iml1lhX0T+1ZFBKxbrr8jRNc30uu8afFBHxNdf885nX3xORWBHJYV7/VES+Ny/nFJFpInJVRM6IyPsikuTrISKZROR7Eblg/vteRDKZ9z0pImEi8paIXAImJzF9bxHZLCLfiUiEiJwUkQbm7edE5IqI9Er0+GRre2Be4cBHZn3fiMhZEbksIr+ISOYUvmb/rHmZa4M/i8jvInJbRLaLSJlEj60oIqtF5LqIHBWRTonuaykih8zpzovIm8ksz8t8PmfM5z1NRHKa9yX8ZO9lPpdrIvLeQ2pPcpkikltElpuv3w3zctFE060XkREissX8hbhMRPKKyEwRuSUiO0WkZEqedxI1rReRL0Rkhzmv30QkTzKPLSwiS835hopIf/P2FsC7QGezvr1JTPuCiCxLdP24iMxPdP2ciNQ0LysRKSsiA4BuwPCE551oljVFZJ+I3BSRuSLim0zNZUVkg/m4ayIy17z9P5tbJNHmGUm0iVFENpoP2WvW0flR75mpTApf15wiMlFELpqfixEi4p3UY5OYtr75uYgQkb0i8mSi+0qJyEbz87bG/K7MSOG068XoP5vN6VeJ2afM+3uY34nwBz/zIlJXRILN531ZREal5Lk8lFLK5f8Bp4Em5uWNQAfz8irgBPBMovvamZenAb8B2YGSwDGgbzLz/wTYBuQH/IAtwKfmfU8CscBXQCYgcxLT9zYf8wLgDYwAzgI/m9M0A24D2R5VW6J5vYTxiy0z8B2wFMhjTrMM+CKZ59Ib2JTougLKmpenAOFAXXPeM4E55n1ZgXPmc8gA1AKuAZXN+y8Cj5mXcwO1k1l+HyAUKA1kAxYB0837Spr1/Go+rxrAfaBSMvNKcplAXqADkMV8PeYDSxJNt96soQyQEzhkvsZNzOc2DZickuedRE3rgfNAVXPahcCMB55fhkSfxzGAL1ATuAo0Nu/7KGG6ZJZTGojAWHkrDJwBwhLddwPwSuY9HpHE92eHOZ88wGFgYDLLnQ28Zy7XF2iU1HNL9Fr0e9TnLhXvWUpf18XAOPNx+c3n9mIyz+ejRPMpgvH5b2k+v6bmdT/z/q3AN0BGoBFwKxXTrsfoReUxPtvrgS/N+yoDd4DHMfrBKIzveJNEy+1hXs4G1E93z7RlA7bqH/9u/J8CP2J8SS8BrwBfmh/Se+YHzBuIJtGXF3gRWJ/M/E8ALRNdbw6cNi8/ac7L9yH19QaOJ7pezfygFkh0WzjGl/+htZnzOpvoPgEigTKJbgsETj2kloc1/gmJ7msJHDEvdwb+fmBe44APzctnzTpzPOK9WgsMTnS9AhBjvl8lzXqKJrp/B9AlmXmldJk1gRuJrq8H3kt0/VtgRaLrzwF7UvK8k1jWeswvtHm9svl+eid6fhmAYkAckD3RY78AppiXP+Ihjd98zDmgNtAFGG++VhUx/kgtfch7nFTj757o+kjgl2SWOc1cVtEHbv/nuT3wWqSo8afwPUvJ61oAY2Uhc6LHdgXWJbOcf15n4C3MlZBE9/8J9AKKYzTjLInum5GSaRPV/36i+wYDK83LH2CuYJnXs5rPLfHK7MdAvod9HlLzz6029Zg2YDTj2sB+YDXwBFAfCFVKhQP5AB+MtaQEZzD+aielcBKPLZzo+lWlVNQj6rqc6PI9AKXUg7dlS2Ft5xJd9sNYSwoxf2JGACvN29PiUqLLd82aAEoA9RKWYS6nG1DQvL8Dxh+KM+amgMBk5p/Ua5nwhX1UDQ9KcpkikkVExpk/nW9hfHFyPfBz/8HXPqn3IiXPOymJ358zGO9nvgceUxi4rpS6/cBjk/sMJiXhs/64eXk9xmf9CfN6aqT0NR+OsbKxQ0QOikifVC4nSSl8z1LyupYwb7+Y6P0ah7Hm/yglgKAH3utGQCH+//26m0w9D5s2QXKvceHE81JKRWKsCCboi/FL4YgYmyGfTcFzeSiX3bn7EFsw1iLbARuUUodEpDhGg0j4MlzDWMssgfEzH4y/6OeTmecF87EHEz32QqL7lc2qT1lt6oHH3wOqKKWSq98WzmG8nk2TulMptRNoIyI+wFBgHsZa7YMSXssECWtSl4EHt+k+1EOW+QbGZ6CeUuqSua17N0bDSq2HPu9kJH7exTHez2sP3H4ByCMi2RM1/8Tvc0o+Uxswfp2UAj7H2PTTDeMX30/JTJOuz6pS6hKQsC+iEbDG3GZ/03xIFoxNIPDwP44PSsl7lpLX9RzGGn8+lfqDHs5hrLX3f/AOESmB8X5lSdT8H1xuktOmwEWgUqJlZcHYMgGAUuo40FWM/XztgQUiktf8A5EmbrfGb74pIcAQ/r/RbwEGJlxXSsVhNInPRCS7+aa+jvHTLSmzgfdFxM/cIfPBQx6b3vpTVZtSKh5jm/h3IpIfQESKiEhzG5e2HChv7oTyMf/VEZFKIpJRjOO0cyqlYjC++PHJzGc28Jq5oywbRsOam9ov6SOWmR3jj2GEuQPwwzQ83wTJPu+HTNNdRCqbX+BPgAXm+/oPpdQ5jM/lF2IclFAdY80u4X2+DJSUZA44MG0AnsLYrBEG/A20wGgau5OZ5jLGPoA0EZEg+f+drjcw/pDEK6WuYvzR6i4i3uYvgTLJzSeJOlLynqXkdb2IsW/vWxHJIcbBBGVE5IkUPL0ZwHMi0tx8Dr5iHLxRVCl1BgjGOJgio/nr8rmUTJuC5S4AnhWRRiKS0Xxu/7zvItJdRPzM73qEeXNy368UcbvGb9qA8XNvR6Lr2TF+PiZ4CWPb+ElgEzALmJTM/EZgvOn7MDYf7TJvs5fU1AbG9sVQYJv5M3kNxtqTzZhrpc0wtidfwPjZmrBDG6AHcNpc/kCMNc+kTAKmY7wXp4AojOebFskt83uMHWjXMHbKr0zj/FPyvJMyHWNb+iWMfUsvJ/O4rhjbpy9g7JD8UP3/IckJR+iEi8iuZGo7hrFT8G/z+i2Mz8zmBxtiIhOByubmiCUPeQ7JqQNsF5E7GAcUvKL+/zyQ/sAwjM0UVTD+sCXnI2CqWUcnUvaepfR17YmxA/YQxh+nBfx7k0uSzD/GbTCOqLqKsRY/jP/vkwm/psIxvv9zMX5dpGTahy33IMaK6iyMtf8bQFiih7QADpqv+Q8Y+7zuPWq+DyPmzgNN02xARNZj7PCbYHUtmn2JcSjrEaVUen5RWsJd1/g1TdNsytzEV8bcfNQCYw0/Lb+aLOeOO3c1TdPsoSDGeSd5MTbFDFJKJbcvxanpTT2apmkeRm/q0TRN8zAusaknX758qmTJklaXoWma5lJCQkKuKaX+czKnSzT+kiVLEhwcbHUZmqZpLkVEziR1u97Uo2ma5mF049c0TfMwuvFrmqZ5GJfYxq9pmvYoMTExhIWFERX1qKBc9+Pr60vRokXx8fFJ0eN149c0zS2EhYWRPXt2SpYsiUhaglhdk1KK8PBwwsLCKFWqVIqmsfumHjOpbreILDevlxJjSL9QMYZ4y2jvGjRNc39RUVHkzZvXo5o+gIiQN2/eVP3SccQ2/lcwhnJL8BXwnVKqLEYKXV8H1KBpmgfwtKafILXP266N38yibgVMMK8L0BgjJhVgKtDWbgWEBcOm7+w2e82zXYi4x7yd54iL17Enmmux9xr/9xhDtSUMGpAXiEg06EYYyQw1JyIDxBhZPvjq1atpW/q+ebDmIzi8LG3Ta1oy9ofdpM3Pmxm+cB+j/zpudTmak8iWzRhN8cKFC3Ts2NEm85w/fz5VqlTBy8vLZiey2q3xm+NCXlFKhaRleqXUeKVUgFIqwM8vjcPHNvsUivjDksEQfiJt89C0B6w5dJlO47aS0duLJpXy88Pa42w4lsaVE80tFS5cmAULFjz6gSlQtWpVFi1axOOPP26T+YF91/gbAq1F5DQwB2MTzw8YAygnHE1UlOTHuU2/DJkgaAp4ecO8nhB995GTaNrDTNt6mgHTgymbPxuLBzdgdNfalM+fnVfn7OZ8RLoGRdLcyOnTp6latSoAU6ZMoX379rRo0YJy5coxfPjwfx63atUqAgMDqV27NkFBQdy5c+c/86pUqRIVKth0QD37Hc6plHoHeAdARJ4E3lRKdROR+UBHjD8GvYDf7FUDALmKQ/sJMLMj/PEmtPkZPHQHkJZ2cfGKz/84zMRNp2hSKT8/dq1FlozG12ds99q0/mkzQ2buYt6LgWTMoM+LtNrHyw5y6MKtRz8wFSoXzsGHz1VJ07R79uxh9+7dZMqUiQoVKvDSSy+ROXNmRowYwZo1a8iaNStfffUVo0aN4oMPPrBp3Umx4hP6FvC6iIRibPOfaPcllmsCTwyHPTNh1zS7L05zL/ei4xg8M4SJm07Ru0FJxvUI+KfpA5T2y8bIjtXZcy6Cz34/ZGGlmrN6+umnyZkzJ76+vlSuXJkzZ86wbds2Dh06RMOGDalZsyZTp07lzJkkM9VsziEncCml1gPrzcsngbqOWO6/PPEWhO2EP4ZBoRpQuKbDS9Bcz9Xb9+k3LZh9YRF88Gxl+jRK+gSZltUK0bdRKSZuOoV/yTy0rlHYwZVqiaV1zdxeMmXK9M9lb29vYmNjUUrRtGlTZs+e7fB6POc3qZe3scknaz5je/+9G1ZXpDm50Cu3aTdmM0cv3eKX7v7JNv0Ebz9TkYASuXl74T6OX77toCo1V1W/fn02b95MaGgoAJGRkRw7dswhy/acxg+QNS8ETYVbF2DxIIiPf/Q0mkfaeiKc9mO2EBUTx5wBgTSvUvCR0/h4e/Fzt9pkyejNoJm7iLwf+8hpNM/l5+fHlClT6Nq1K9WrVycwMJAjR47853GLFy+maNGibN26lVatWtG8efN0L9slxtwNCAhQNh2IZfs4WDEcnv4AHnvDdvPV3MLi3WEMX7CPEnmzMrl3HYrlyZKq6becuEb3CdtpVb0wP3ap6bFnkzra4cOHqVSpktVlWCap5y8iIUqpgAcf61lr/AnqDoCqHeCvEXBqo9XVaE5CKcUPa47z2ty9+JfIzcKBDVLd9AEalMnHG80qsGzvBaZuOW37QjUtnTyz8YvAcz9C3nKwoI+x6UfzaNGx8bw5fx/frTlG+1pFmNanHjmzpCziNimDnijD0xXz89kfh9l1Vu9P0pyLZzZ+gEzZoPN046Su+S9AXIzVFWkWuXkvht6Td7BwVxivNinHt51qpPtYfC8vYVSnmhTM6cuQmbsIv3PfRtVqWvp5buMH8KsArX+Ec9uMTB/N45y7fpeOY7ew8/R1vgmqwatNyttsm3zOLD6M7eZPeGQ0r87do8PcNKfh2Y0foFpHY5v/1p/gkH1PItacy76wCNqN2cKlW1FM7VOXjv5Fbb6MqkVy8nHrKvx9/Bo/rNVhbppz0I0foNlnUCQAlgyBa6FWV6M5wKqDl+g8bhuZMnixaFADGpTJZ7dldalTjA61izL6r+OsP3rFbsvRtJTSjR8gQ0YjzM3bR4e5eYDJm0/x4owQyhfIxuIhDShXILtdlycijGhblQoFsvPq3D2E3dCfL3dlj1jmYcOGUbFiRapXr067du2IiIhI9zx140+Qqxh0mABXDsHvr4MLnN+gpU5cvOLjZQf5eNkhmlYqwJwBgeTP7uuQZWfO6M3Y7v7ExSmGzNzF/dg4hyxXs4YtY5mbNm3KgQMH2LdvH+XLl+eLL75I9zx140+s7NPw5NuwdzaETLG6Gs2G7kbHMnBGCJM3n6ZPw1KM7e5P5ozeDq2hVL6sfB1Unb1hNxmx/PCjJ9Bcli1jmZs1a0aGDEasWv369QkLC0t3fQ4JaXMpjw+HczuMM3sL1YAita2uSEunK7ej6Dc1mAPnb/LRc5Xp3fDhmTv21KJqIQY8XprxG08SUDI3bWomOQCdll4r3oZL+207z4LV4Jkv0zSprWKZJ02aROfOndP6DP6hG/+DvLyg/a8w7nGY1wte3ABZ8lhdlZZGxy/fpvfknVyPjGZcjwCaVi5gdUkMb16BPWcjeHvhfioVykF5O+9j0KyXEMsM/BPLHBER8U8sM0B0dDSBgYHJzuOzzz4jQ4YMdOvWLd316MaflKx5odM0mNQcFr8IXecafxA0l7Il9BovzgghUwZv5r5Yn+pFc1ldEgAZvL346flatPxxEwNnhLB0aCOyZdJfRZtK45q5vaQ3lnnKlCksX76ctWvX2uQ8E93NklPUH1p8AcdXwaZvra5GS6UFIWH0nLSDQjl9WTKkgdM0/QT5c/gyumstTl+L5K0F+3CFsETNtlIay7xy5UpGjhzJ0qVLyZIl9dlRSdGN/2Hq9INqQbDuczi53upqtBRQSjFq9THenL+XuqXyMH9gA4rmts2XxdYCy+RlWPOK/L7/IpM3n7a6HM3BUhrLPHToUG7fvk3Tpk2pWbMmAwcOTPeyPTOWOTWiI+HXxhB5DQb+DTn0yErOKjo2nrcX7mPR7vN09C/K5+2qOf34t0op+k8LYf3RK8x9sT7+JfT+pLTSscw6ltl2MmaFTtMhNgrm99Zhbk7q5t0Yek7azqLd53mjaXm+7ljd6Zs+GCd3fdupBoVzZWbIzN1c02FumgM4/zfDGfiVh9aj4dx2WJ38oVaaNc5dv0v7sZsJOXOD7zrX4KWny7nU4Cc5M/swplttrt+N5pU5u3WYm2Z3uvGnVNX2UG8gbBsDBxdbXY1m2nMugnZjNnPtTjTT+9ajXS3bB605QtUiOfm0TRU2h4bz/RrHjLvqjlxh07U9pPZ568afGk0/haJ14behcE0nLVpt5YFLdBm/lcwZvVk4qAH1S+e1uqR06VynOEH+RRn9Vyjrjugwt9Ty9fUlPDzc45q/Uorw8HB8fVMeP6J37qbWzfMw7jHImh/6rzX2AWgOpZRi4qZTfPbHYWoUzcWEXgHky5bp0RO6gKiYONqN2cKFiHssf6lRmoZ+9FQxMTGEhYURFRVldSkO5+vrS9GiRfHx+feoccnt3NWNPy1O/AXT20P1TtBunDGUo+YQcfGKT5YdZOrWM7SoUpDvOtd0eOaOvZ2+FslzozdRyi8r8wcGkimDez0/zXEcflSPiPiKyA4R2SsiB0XkY/P2KSJySkT2mP9q2qsGuynTGJ56F/bNheCJVlfjMSLvxzJgWjBTt56h/2OlGNOttts1fYCS+bLybaca7Au7ySfLDlldjuaG7Hme+H2gsVLqjoj4AJtEZIV53zCllG0yS63y2JtGmNvKd6BwLSjib3VFbu3KrSj6TN3JoQu3+KRNFXoGlrS6JLtqVqUgLz5RmnEbjDA3V91prTknu63xK0NCxqiP+c/5tyullJcXtB8P2QoYYW53r1tdkds6euk2bX/ezMmrkfzaM8Dtm36CYc0qUK9UHt5ZtJ+jl25bXY7mRux6VI+IeIvIHuAKsFoptd286zMR2Sci34lIknvlRGSAiASLSPDVq1ftWWbaZckDnabCncuwaADEx1tdkdvZdPwaHcduITZeMe/FQJ6uZH26pqNk8PZi9PO1yO7rw6AZIdyO0icParZh18avlIpTStUEigJ1RaQq8A5QEagD5AHeSmba8UqpAKVUgJ+fnz3LTJ8i/tDiSwhdDX9/Y3U1bmXeznP0nryDwrkys3hIQ6oWyWl1SQ6XP7svP3WtxZnrdxmuw9w0G3HIcfxKqQhgHdBCKXXR3Ax0H5gM1HVEDXYV0AeqdzbC3E78ZXU1Lk8pxberjjJ84T4Cy+Rl/qBAiuTKbHVZlqlXOi/Dm1dgxYFLTNx0yupyNDdgz6N6/EQkl3k5M9AUOCIihczbBGgLHLBXDQ4jAs9+B34VYWE/uJn+odE81f3YOF6du4fRf4XSOaAYk3rXIYevz6MndHMDHi9Ns8oF+HLFEYJP6/1JWvrYc42/ELBORPYBOzG28S8HZorIfmA/kA8YYccaHCdjVug8HWKjjTC32GirK3I5EXej6TFhB7/tucCw5hX4skM1fLz1yeVghLl9HVSDIrkzM2TWLh3mpqWLPoHL1g4ugfm9jFyfZ76yuhqXcSY8khem7CTs+j2+Dqqux6JNxqELt2g3ZjP+JXIzvW89vL30yYNa8nQss6NUaQv1B8P2X+DAQqurcQkhZ27QbswWrkdGM6NfPd30H6Jy4Rx82rYqW06EM2r1UavL0VyUbvz20PQTKFYPlr4MV/WX82FW7L/I879uI7tvBhYNakDdUnogkkfpFFCMzgHF+HndCdYevmx1OZoL0o3fHrx9IGgKZPCFuT3g/p1HTuJplFKM33iCwbN2UaVwDhYNakBpv2xWl+UyPm5ThcqFcvDa3D2cu37X6nI0F6Mbv73kKAwdJ0L4cVj2CrjAvhRHiY2L53+/HeDzP47wTNWCzOpfn7xukq7pKL4+3vzS3YgJGTQzhKiYOIsr0lyJbvz2VPpJI8ztwALYOcHqapxC5P1Y+k8LZsa2s7z4RGl+6lobXx/3C1pzhOJ5szCqU00OnL/FxzrMTUsF3fjtrdEbUK65EeYW5iJHJtnJpZtRBP2ylQ3HrjKibVXeeaYSXvqolHRpUrkAg54sw+wdZ1kYos8f0VJGN3578/KCdr9AjkJGmFtkuNUVWeLwReMwxDPhkUzsXYfu9UtYXZLbeKNpeQJL5+W9Jfs5fPGW1eVoLkA3fkfIkgeCpkLkFVjUH+I9a3vsxmNXCfplK/FKMW9gIE9VyG91SW4lg7cXP3atRQ4zzO2WDnPTHkE3fkcpUhueGQkn1sLGr62uxmFm7zjLC1N2UjR3ZpYMaUiVwp4XtOYIftkz8dPztTl34x7D5+swN+3hdON3JP/eUKMrrP8SQtdYXY1dxccrRq48wjuL9tOwbD7mDwykUE7PDVpzhLql8vB2i4qsPHiJCX/rMDctebrxO5IItBoF+SvDwv4Qcc7qiuwiKiaOl+fsZsz6E3StW4yJvQLIroPWHKLfY6VoUaUgX648wo5TOsxNS5pu/I6WMQt0mgZxMW4Z5nYjMpruE7azfN9F3mpRkc/b6aA1RxIRRgZVp1juzAydtYsrt6OsLklzQvobaYV8ZaHtGDgfDKves7oamzl9LZL2Y7ew7/xNRnetxaAny2Ckb2uOlMPXh7Hd/bkVFcPLs3cTG6dHhtP+TTd+q1RuDYFDYcd42O/a484DhJy5Trsxm4m4G82sfvV4rkZhq0vyaJUK5WBE22psO3mdb1cfs7oczcnoxm+lJh9B8UBY+hJcOWJ1NWm2fN8Fuv66nZyZfVg0uCEBJXXQmjPo6F+UrnWLM3b9CVYf0mFu2v/Tjd9K3j7QcbIxiMu8HnD/ttUVpYpSil82nGDorN1UL5KTRYMbUipfVqvL0hL58LnKVC2Sg9fn7eFsuA5z0wy68VstRyHoOAnCQ40YZxc5/jo2Lp53Fx/gyxVHeLZ6IWb0q0eerBmtLkt7gK+PN2O7+eMlosPctH/oxu8MSj0Ojd+Hg4uMbf5O7s79WPpODWb2jrMMerIMP3appYPWnFixPFn4rnMNDl64xUdLD1pdjuYEdON3Fg1fg/It4M/34NxOq6tJ1sWb9wj6ZSubQq/xRftqvNWiog5acwGNKxZgyFNlmLPzHPOD3fP8ES3ldON3Fv+EuRU2xuyNvGZ1Rf9x8MJN2v68mXPX7zKpdx261i1udUlaKrzetAINyuTl/SUHOHRBh7l5Mt34nUnm3MbJXZHXYGE/pwpzW3f0Cp1+2YqXCPMHBvJEeT+rS9JSydtL+LFrLXJl8WHQzBBu3tNhbp5KN35nU7gmtPwaTq6DDV9ZXQ0AM7efod/UYErkzcriwQ2pVCiH1SVpaZQvWyZ+fr4252/cY9j8vTrMzUPpxu+MaveEmt1gw0g4bl2YW3y84osVh3lv8QEeK5ePeQMDKZjT17J6NNsIKJmHt5+pyKpDlxm/8aTV5WgW0I3fGYlAy2+gQBVY1A8izjq8hKiYOF6avZtxG07SrV5xJvQMIFumDA6vQ7OPvo1K0bJaQUb+eZTtJz1zcCBPZrfGLyK+IrJDRPaKyEER+di8vZSIbBeRUBGZKyL64O+kJIS5xccZI3fF3nfYosPv3Of5X7fx+/6LvNuyIiPaViWDDlpzKyLCVx2qUyJPFobO3s2VWzrMzZPY89t8H2islKoB1ARaiEh94CvgO6VUWeAG0NeONbi2vGWMMLcLu4wxex3g5NU7tB+7hYMXbjGmW20GPK6D1txVdl8fxnSvze2oGIbqMDePYrfGrwx3zKs+5j8FNAYSUsmmAm3tVYNbqPQcNHgJgifCvnl2XdTO09dpP3YLt6NimdW/Pi2rFbLr8jTrVSyYgy/aV2PHqet8veqo1eVoid2+DHO7w+1LNp+1XX+/i4i3iOwBrgCrgRNAhFIq1nxIGFAkmWkHiEiwiARfvXrVnmU6v6c/guINYNkrcOWwXRbx257zdPt1O3myZGTx4Ab4l8htl+VozqddraJ0q1eccRtOsuqg7ZuMlgZXjsCEJhC6Fq7a/g+yXRu/UipOKVUTKArUBSqmYtrxSqkApVSAn5+HHzPunQGCJkPGbDDXtmFuSil+XhfKK3P2ULNYLhYOakCJvDpozdN88FxlqhfNyRvz93ImPNLqcjzbyQ0wsRnE3YcX/oDST9h8EQ7ZY6eUigDWAYFALhFJOEUWHdIAACAASURBVDykKHDeETW4vOwFjTC36yfgt6E2CXOLiYvn7YX7+frPo7SpWZjp/eqSWweteaRMGbz5+fnaeIkwcMYuHeZmlT2zYEZ74wz+fmugcC27LMaeR/X4iUgu83JmoClwGOMPQEfzYb2A3+xVg9sp9Rg8/QEcWgLbf0nXrG5HxdBnyk7mBp/jpcZl+b5zTTJl0EFrnqxYnix837kmhy/e4oPfDlhdjmdRCtZ9DksGQclG0PdPyGW/SBR7rvEXAtaJyD5gJ7BaKbUceAt4XURCgbzARDvW4H4avgoVWsKq9+Hs9jTN4kKEEbS29UQ4IztU541mFfSROxoAT1XMz0uNyzIvOIy5Ox1//ohHio2GxQONM/VrdoduC8A3p10XKa5wynZAQIAKDg62ugzncS8Cxj9hfGBe3AjZUr4P5MD5m/SZspN70XGM6V6bx8p5+P4T7T/i4hW9Ju1gx+nrLBrUgKpF7NuEPNq9G8Z+u9N/G9Hsj71pnMBpIyISopQKePB2fVaOK8qcCzpNh3vXYWHfFIe5/XXkMp3GbSWDlzB/UKBu+lqSvL2EH7rUJE+WjAyeuUuHudnLjdPGTtxz26H9BHh8mE2b/sPoxu+qClU3Yh1ObYD1Xzzy4dO3nqbf1GBK+2Vl8ZCGVCyog9a05OXNlomfu9XmQsQ93pi3l/h4598y4FLCQozDNe9cgR5LoHqQQxevG78rq90DanWHjV/DsT+TfEh8vOKz3w/xv98O8mSF/MwdEEiBHDpoTXs0/xK5ebdlJdYcvsw4HeZmO4eXwZRWxljb/dZAyYYOL0E3flfX8hsoWA0WDYAbZ/51V1RMHENm7eLXv0/RM7AE43v4k1UHrWmp8ELDkrSqXoiv/zzC1hM6zC1dlIKtPxvb9AtUgb5rIF85S0rRjd/V+WQ2wtyUgnk9IcYI27p25z5df93GyoOXeL9VJT5uXUUHrWmplhDmVjJfVl7SYW5pFx8HK4bDn+8aMSy9l6fqoAxb053AHeQpDe3GwsU9sPJtTly9Q7sxmzl04RZju9Wm32Ol9eGaWpply5SBX7r7E3k/lqGzdhOjw9xS5/4dmPM87Bhv5G4FTTVW2CykG7+7qNgKGr4CIZOZ9PMX3L0fx5wB9WlRVQetaelXvkB2vuxQjR2nr/P1nzrMLcVuX4IpLeH4KmOzbLMRxvjaFrO+As1mfsvTl+3xlfgf41neKQ+1iuugNc122tQsQo/6JRi/8SQrD+gwt0e6fMg4cudaKHSdA3X7W13RP3TjdwNKKUavPc4r8w8wseD/yJg1F4X+7A9Rt6wuTXMz7z9biRrFcjFs/l5OXdNhbsk6sQ4mNYe4GOizAso3t7qif9GN38XFxMUzfME+vl19jHa1ijB6QAu8gqYYJ4f8NsQmYW6alsAIc6uFt7cwaEYI96J1mNt/7JoOMztCzmLQfy0UqmF1Rf+hG78Lu3kvht6TdzA/JIyXny7HqE41jKC1kg2hyYdweClsG2N1mZqbKZrbCHM7evk2//vtAK4Q++IQSsFfI2DpUCj1OPRZCTmLWl1Vkh7Z+EUkq4h4mZfLi0hrEfGxf2naw4TduEvQL1vYfvI6X3eszutNy//7yJ0GL0PFZ2H1B3B2m3WFam7pyQr5ealxORaEhDF35zmry7Fe7H1Y1N84mbJ2T3h+Hvg679nxKVnj3wj4ikgRYBXQA5hiz6K0h9sfdpN2Y7Zw8WYUU/vUJSig2H8fJGKM15urOMzvDXc8fBQzzeZeebocj5XLxwdLD3Lg/E2ry7HO3eswvR3sn2/Epj/3I3g797pxShq/KKXuAu2BMUqpIKCKfcvSkrPmkBG0ltHbi4WDGtCwbL7kH+yb0zi5694NWPACxMUm/1hNSyUjzK0WebNmZOCMEG7e9cAwt+snjaC1sJ3QYSI89obDgtbSI0WNX0QCgW7A7+ZtesQOC0zdcpoB04MpVyAbi4c0oHyB7I+eqGA1aDXKiH1d95n9i9Q8Sp6sGfm5W20u34ri9Xl7PCvM7dxO43DNu9eg51Ko1vHR0ziJlDT+V4F3gMVKqYMiUhpjFC3NQeLiFZ8sO8SHSw/SuGIB5gyoT/7sqQhaq9XN2O64aRQcXWG/QjWPVLt4bt5rWYm1R64wdsMJq8txjEO/wdRnIVMOI3OnRKDVFaWKHojFyd2LjuOVObtZdegyvRuU5H/PVsbbKw0/JWOiYGJTiDgDAzZAnlK2L1bzWEopXp6zh9/3XWBGv3o0KPOQTZCuTCnYMto4aKJYXegyC7I673NN9UAsIvK9+f8yEVn64D97FqsZrt6+T5dft7H68GU+eLYyH7WukramD+Dja2zvB5jf658wN02zBRHhy/bVKO2XjZdn7+bSTTf8fMXFwu9vwOr/QeU2xuYdJ276D5PsGr+I+CulQkTkiaTuV0ptsGtliXjiGn/oldv0nryTa3fu82OXWjSrUtA2Mz66AmZ3gdq9oPWPtpmnpplCr9ym9U+bqVwoB7MH1MfHXRJh798xDpA4vsoY9/rpD50ic+dRUr3Gr5QKMS8eVkptSPwP0EEddrTlxDXaj9lCVEw8cwcE2q7pA1R4Bhq9Brumwp5ZtpuvpgFl82fnyw7VCT5zg69WHLG6HNu4dQEmt4DQtfDs99D0Y5do+g+Tkur/FpFOCVdE5A1gsf1K8myLdoXRa9IO8ufwZfHgBtQolsv2C3nqfSj5GCx/DS4dsP38NY/WukZhegWWYMKmU6zYf9HqctLn0gHjyJ3rp4yTsgJesLoim0hJ438S6CEi80VkI1AeqGvXqjyQUorv1xzj9Xl7CSiRh4WDGlAsTxb7LMw7A3ScBL65YF4PiPLgk280u3ivVWVqFsvFsAX7OHn1jtXlpE3oWpjUwtih22cllGtidUU288jGr5S6CKwEAoGSwFSllIu+k84pOjaeN+bv5fs1x2lfuwhT+9QlZ2Y7n/mXLT8ETTaGa9RhbpqNZczgxc/dauPjLQyeucv1wtxCpsLMIMhdwhgXt2A1qyuyqZRk9awB6gFVgVbA9yLyjb0L8xQ378XQa9IOFu06z2tNyvNtUA0yZnDQ9sMSDYztlYeXwdafHLNMzWMUyZWZH7rU4ujl27y3eL9rhLnFx8Oaj2HZy1DmKXhhBeQsYnVVNpeSDvOTUqqnUipCKbUfaAA8ctuAiBQTkXUickhEDorIK+btH4nIeRHZY/5rmc7n4LLOXb9Lh7FbCD5znVGdavBKk3KOHyIxcKgxBujqD+HMFscuW3N7j5f345Wny7Fo93lm7ThrdTkPFxMFC/saJzr6vwBd5zp10Fp62O0ELhEpBBRSSu0SkexACNAW6ATcUUql+FeDOx7OufdcBH2nBhMdG8e4HgEElslrXTFRN2H8UxAdCS9uhOwFrKtFczvx8YreU3ay7UQ4CwYFUr2oHQ5YSK+712F2Vzi3DZp8bAxj6gKZO4+S6sM5E01YX0R2isgdEYkWkTgReeQav1LqolJql3n5NnAYcL/fTGmw6uAlOo/fiq+PF4sGN7C26YMR5tZ5uvEHYEEfHeam2ZSXl/B955rky5aRQTN2EXE32uqS/i38hHHkzoXd0HEyNHrVLZr+w6RoUw/QFTgOZAb6Aaka3UNESgK1gO3mTUNFZJ+ITBKRJAeGFZEBIhIsIsFXr7pPpPCkTad4cUYIFQrmYPHghpTNn4KgNUcoUAWe/Q7ObIK/PrW6Gs3N5MmakTHd/blyO4rX5jpRmNvZ7UbTv3cDei2Dqu2trsghUrQXUSkVCngrpeKUUpOBFildgIhkAxYCryqlbgFjgTJATeAi8G0yyxyvlApQSgX4+fmldHFOKy5e8dHSg3yy/BDNKhdgTv/6+GXPZHVZ/1azK/j3hs3fw5E/rK5GczM1i+Xif89WZt3Rq4xZH2p1OXBgEUx9DjLnNo7cKV7P6oocJiWN/66IZAT2iMhIEXkthdNhjtS1EJiplFoEoJS6bP4BiQd+xQPOCbgbHcuL00OYsuU0fRuVYkw3fzJndNJk6xZfGWOELh5oZI1rmg31qF+CNjULM2r1MTaHXrOmCKVg0/dGBEOR2kbTz1vGmloskpIG3sN83FAgEigGdHjURGIcnjIRI/JhVKLbCyV6WDvArU8dvXI7is7jtvHXkct83LpK2tM1HSUhzE0E5vWEmHtWV6S5ERHhi/bVKGNVmFtcLCx/FdZ8CFU7QI8lkCWPY2twAvY8qqcR8DewH4g3b34XY39BTUABp4EXzZPEkuWqR/Ucu3ybFybv5HpkNKO71qJJZRc6WubYnzCrE9TqAW30Mf6abYVeuUObnzZRsVAO5jgqzO3+bWMY0tA10Oh1aPw/l8/ceZTkjurJYK8FKqU2AUmt2nrExuPNodcYOCMEXx9v5r0YSLWiOa0uKXXKNzeGkfv7WyheH2p1t7oizY2UzZ+NrzpWZ+is3XzxxxE+eK6yfRd48zzM6gxXDhlj4vr3su/ynJzdGr8nmx98jncW7ae0X1Ym9a5D0dx2ytyxt6feM8YS/f0NKFgdClW3uiLNjTxbvTDBp28wafMp/EvkplX1Qo+eKC0u7jN+vd6/A93mQ9mn7bMcF5Kq3zkiYsN8YPejlGLUqqMMW7CP+qXzsmBQA9dt+gBe3tBhknHUw7yecC/C6oo0N/Nuy0rULp6L4Qv2csIeYW7HV8PkZ0C8jKA13fSBVDZ+PGQzTVrcj43j9Xl7+fGvUIL8izL5hTrk8LVz0JojZPODoClw85wOc9NsLiHMLZOPN4NmhHA32oYnDwZPMjbv5CkN/dZCwaq2m7eLS23jd+LDUaxz824MPSfuYPHu87zZrDwjO1Z3n5GHwNjG3/QTOLIctuhRuzTbKpQzMz90qcnxK3d4d5ENwtzi440xcZe/Zqzhv7ACcthpM5KLSm13+tUuVbiws+F3aTd2M7vPRvBDl5oMbWxB0Joj1B9sjDO65iM4vcnqajQ381g5P15rUp4ley4wY3s6wtxi7hnH52/+AQL6QpfZkCmb7Qp1E6lq/EqpVEU1uLvdZ2/Qbsxmwu9EM71vXdrUdOMoIhFo/ZPxs3n+C3Bbj76p2dbQp8ryZAU/Pl12iL3n0rA/KfIaTG0Nh5ZAsxHQ6ltj0CHtP9xoe4RjrTxwkS7jt5E1UwYWDW5AvdIWB605gm8O6DQdou/oMDfN5ry8hO861cQveyYGz9zFjchUhLldCzUydy7tg6Cp0OAltw9aSw/d+FNJKcWEv08yaOYuKhfOweLBDSjj50E/JQtUNgacPrMZ1n5sdTWam8mdNSNjutXm6u37vDYvhWFuZ7bCxCbGCVq9lkOVtvYv1MWlJJb5peQSND1NbFw8Hy49yIjfD9OiSkFm969P3mxOFrTmCDU6Q0AfY0fv4eVWV6O5mRrFcvHBc5VZf/QqP617RJjb/gUwrTVkyQv9VkOxOo4p0sWlZI2/ALBTROaJSAtxyz2XjxZ53wham7b1DAMeL83Pz9fG18dJg9YcocWXULgWLBlk5Jlrmg11q1ecdrWK8N2aY/x9PIlYdqWMs8oX9oUiAdB3tbH/SUuRlAy2/j5QDiNwrTdwXEQ+FxGPibO7fCuKTuO2su7oFT5tU4V3W1bCy5mD1hwhQyZjW6p4wbxeOsxNsykR4bN2VSmXPxuvzNnDhYhEn6+4GFj6Eqz9BKoFQU/PDFpLj5Tm8SvgkvkvFsgNLBCRkXaszSkcuXSLdj9v5tS1SCb0CqBHYEmrS3IeuUtA+1/h8n74/U2rq9HcTJaMGRjb3Z/o2HiGzNpFdGw8RN2CmUGwezo8Psz4/GXwwM2t6ZSSbfyviEgIMBLYDFRTSg0C/ElBPLMr+/v4VYLGbiU2XjHvxUAaV3ShdE1HKd/M+ALumQG7plldjeZmyvhlY2TH6uw+G8FPS9bDpBZw+m/j0OLG7+sjd9IoJQe55gHaK6XOJL5RKRUvIs/apyzrzdt5jncX76ds/mxM6l2HwrkyW12S83ryHTPM7U1jEJdCNayuSHMjLasV4t1a0bTZP5gYn1h8ui2AMk9ZXZZLS8k2/g8fbPqJ7jts+5KspZTimz+PMnzhPgLL5GX+wEDd9B/Fyxs6TDSOrJjX0xi/VNNs5dif9A8dgpd3RjpGf0hodn3kTnrp4/gTuR8bxytz9vDTulC61CnGpN51yO4OQWuOkDUfdJoKN8Ng8SAjL0XT0mvHrzC7C5KvLKrvGsJ8SjFoRgiR9/XJg+mhG7/pRmQ0PSbsYOneCwxvUYEv2ldzr6A1RyhW1zhV/tgKY8B2TUur+Hj48z34400o1wx6/0H+IiX4sWstTly9wzu2CHPzYLqzAWfCI+kwdgt7zkXwY9daDH6yrHsGrTlCvYFQpR389Smc2mh1NZorirkH83vB1p+g7gDoMuufoLWGZfPxetPyLN17genbktwCraWAxzf+kDM3aDdmC9fvRjOzfz1a1yhsdUmuTQRaj4a8ZY08n1sPHU5Z0/7tzlWY+hwcXgbNv4BnRhr7kBIZ/GRZGlfMz6fLD7H7rN6flBYe3fj/2H+R53/dRnbfDCwe3JA6JfVJIDaRKTt0mgbRkUZEblyM1RVpruDqMZjwNFw6AJ2nQ+DgJA/X9PISRnWqQYEcvgyZuYvrqQlz0wAPbfxKKcZtOMHgmbuoWiQniwY1oFS+rFaX5V7yVzIGtT671cjw17SHOb0ZJjaFmLvQ+3eo9NxDH54rS0bGdvPn2p1oXp27h7iUhLlp//C4xh8bF8/7Sw7wxYojtKpWiJn96nlm0JojVA+COv2MbbWHllpdjeas9s2D6W0hW37otwaK+qdosmpFc/JR6ypsPHaV0X8dt3OR7sWjGv+d+7H0nxbMzO1nGfhEGUZ3reXZQWuO0PxzKOJvjNerw9y0xJSCDV/Dov5QrB70XQW5S6ZqFl3rFqN97SL8sPY4G44lEeamJcljGv+lm1F0+mUrG49f4/N21Xj7mYo6aM0RMmQyBmv38oa5PSD6rtUVac4gLgZ+GwrrRkD1LtB9EWROffq7iPBZ22pUKJCdV+fs5nyEDgtMCbs1fhEpJiLrROSQiBwUkVfM2/OIyGoROW7+b/es/8MXb9H2582cCY9kYq8Anq9X3N6L1BLLVRzaT4Arh+D3N4w1Pc1z3YuAGR2MfKcn3oZ2v0CGjGmeXeaM3ozpVpuYOMWQmWaYm/ZQ9lzjjwXeUEpVBuoDQ0SkMvA2sFYpVQ5Ya163mw3HrhL0y1YA5g9swJMV8ttzcVpyyjWBJ4bD3lmwa6rV1WhWiThrBK2d2Qxtx8JT79gkaK20Xza+CarOnnMRfPb7IRsU6t7s1viVUheVUrvMy7eBw0ARoA2Q8M2fCthtnLQ5O87SZ8pOiuXJwuIhDahcOIe9FqWlxBNvQZnG8McwuLDb6mo0R7uw2xgX99YFY9NOzedtOvsWVQvRr1Eppm49w9K9F2w6b3fjkG38IlISqAVsBwoopRLO6rmEMcJXUtMMEJFgEQm+ejVtO21i4uJpVDYf8wcGUiinDlqznJe3scknq58R5nb3utUVaY5ydAVMbgnemYyduKWfsMti3nqmInVK5ubthfs4fvm2XZbhDsTeeRcikg3YAHymlFokIhFKqVyJ7r+hlHrodv6AgAAVHBycpuXHxyu9E9fZnNsJk58x1v67zgEvjznGwDNtHw8r3zLiurvOhez2Hdfi8q0oWv34Nzkz+/Db0EZky5SS9Hn3JCIhSqmAB2+36zdORHyAhcBMpdQi8+bLIlLIvL8QcMWeNeim74SK1TEO8zz+J2waZXU1mr3Ex8HKd2DFMCj/jHFilp2bPkCBHL782LUWp65F8vbCfTrMLQn2PKpHMMbpPayUSvztXgr0Mi/3An6zVw2aE6vbH6p2gHWfwcn1Vlej2Vr0XWNz3rYxUG+QEcGQ0XFnxzcok483mlVg+b6LTN1y2mHLdRX2XONvCPQAGovIHvNfS+BLoKmIHAeamNc1TyNiRDrkLQcL+ho7/DT3cOcKTGkFR36HFl/BM1/+J2jNEQY9UYanK+bnsz8Os0uHuf2L3bfx20J6tvFrTu7qURj/FBSsBr2Xg7ce+MalXT0KMztC5DVjVLaKLS0t5+bdGJ796W9i4xTLX2rkcfEslmzj17RH8qsArX+Ec9tg9YdWV6Olx6mNZtBalLE93+KmD5Aziw9ju/kTHqnD3BLTjV+zXrWOxoAb236Gg0usrkZLi71zYHp7yF7ICForUtvqiv5RtUhOPmldhb+PX+OHtTrMDXTj15xFs8+gSICR33It1OpqtJRSCtZ/CYtfhBKB0OdPyF3C6qr+o3OdYnT0L8rov46z/qhdDyR0Cbrxa84hQ0YjzM3bB+b1MAZx0ZxbbDQsGQTrv4Aaz0O3hZA516Ons4CI8GmbqkaY29w9hN3w7LBA3fg155GrGHSYAFcOw/LXdJibM7sXATPaw97Z8NR70HZMuoLWHCFzRm9+6e5PnBnmdj82zuqSLKMbv+Zcyj4NT74N++ZC8CSrq9GScuMMTGwGZ7dBu/FG+J4NgtYcoWS+rHwdVIO9YTcZsfyw1eVYRjd+zfk8PhzKPA0r34bzu6yuRkvsfIgxLu6dS9BjMdTobHVFqdaiakEGPF6a6dvO8Nue81aXYwnd+DXn4+UF7X+FrPlhXi8d5uYsjvwOk1uBTxbouxpKPWZ1RWk2vHkF6pbMw9sL93PMA8PcdOPXnFPWvNBpGty+CIsGQLweXMNS28bCnG5QoDL0W2ucf+HCMnh78dPztciaKQMDZ4Rw536s1SU5lG78mvMq6g8tvoDQ1fD3t1ZX45ni42DFW8Zmt4qtoNdyyOZndVU2kT+HL6O71uL0tUjeWuBZYW668WvOrU4/qBZkhLmdWGd1NZ4lOhLmdoftv0DgUOMXWMYsVldlU4Fl8jKseUV+33+RyZtPW12Ow+jGrzk3EXjuB2PTwsK+cNMzd8Y53O3LxsApx1ZCy2+g+WeWBK05wsAnStO0cgE+/+MwIWc8Y3+Sbvya88uYFTpNh9j7ML+3ceKQZj9XDhtDJF47Bl1mGxHabkxE+CaoBkVyZ2bIzN1cu3Pf6pLsTjd+zTX4lYfWoyFsB6z+wOpq3NfJ9TCxOcTdhxf+gAotrK7IIXJm9mFMt9rcuBvNK3N2u32Ym278muuo2h7qDYTtY+HAokc/Xkud3TNhRgfIUdg4cqdwLasrcqgqhXPyaZuqbA4N5/s1x6wux65049dcS9NPoWhdWPoSXHXvL6fDKAV/fQa/DYaSjaDvn0Z8hgfqVKcYnQKKMvqvUNYdcd8wN934NdeSEOaWIZMR5nb/jtUVubbY+0ay5saRUKs7dFsAvjmtrspSn7SpSuVCOXh17h7OXXfPMDfd+DXXk7OIEeZ29Sgsf1WHuaXVvRtGhv6+udD4fWj9kx4BDfD18WZs99rEK8WQWe4Z5qYbv+aayjSGp96F/fNh5wSrq3E910/BhKbGzvL2E+DxYS4TtOYIJfJm5dugGuwLu8knyw5ZXY7N6cavua7H3oSyTWHlOxAWYnU1riMs2DhcM/Iq9FgC1YOsrsgpNatSkBefKM3M7WdZtCvM6nJsSjd+zXV5eUH78ZC9IMzXYW4pcmgpTGkFmbIZQySWbGh1RU5tWLMK1CuVh3cX7+fIpVtWl2MzuvFrri1LHug0Fe5chkX9dZhbcpSCLT/BvJ5QsJpxuGa+clZX5fQyeHsx+vlaZPf1YdCMXdyOirG6JJvQjV9zfUX8ocWXELoGNn5tdTXOJy4W/hgGq96DSs9Br2WQNZ/VVbmM/Nl9+alrLc5ev8twNwlz041fcw8BfaB6Z2P819C1VlfjPO7fgbndYOev0OBlCJoKPpmtrsrl1Cudl7daVGDFgUtM3HTK6nLSzW6NX0QmicgVETmQ6LaPROS8iOwx/7W01/I1DyMCz34HfhVhYT+46V4749Lk1kWY/AwcXwWtvoVmnxr7RbQ06f9YaZpXKcCXK44QfNq19yfZ81MwBUgq6OM7pVRN898fdly+5mkyZoXO0yEuxhi5y5PD3C4fNI7cCT8BXeca8dZauogIXwfVoGjuzAyZtculw9zs1viVUhsB1/6zqLmefOWgzU9wPhhWvW91NdY48RdMagEqDvqsgPLNrK7IbeTw9WFMN38i7sbw8mzXDXOz4nffUBHZZ24Kyp3cg0RkgIgEi0jw1atXHVmf5uqqtIX6g2HHONi/wOpqHGvXNJgZBLmKG0fuFKphdUVup3LhHIxoW5UtJ8IZtfqo1eWkiaMb/1igDFATuAgkO56eUmq8UipAKRXg5+ceQ71pDtT0EyhWD5a+DFeOWF2N/SkFaz81wutKPQEvrDCiLTS7CAooRpc6xfh53QnWHr5sdTmp5tDGr5S6rJSKU0rFA78CdR25fM2DePsYYW4+mY1j1905zC32vrFD++9voHZPeH4u+Oawuiq391HrKlQpnIPXXDDMzaGNX0QKJbraDjiQ3GM1Ld1yFIaOEyH8OCx72T3D3O5eh2lt4cACePpDeO5HHbTmIL4+3ozt5g/AoJkhRMW4TpibPQ/nnA1sBSqISJiI9AVGish+EdkHPAW8Zq/laxoApZ80wtwOLIQdv1pdjW1dP2kcuXM+BDpOgsde10FrDlY8bxZGdarJgfO3+NiFwtwy2GvGSqmuSdw80V7L07RkNXoDzu2EP981RpUqVsfqitLv3A6Y3QVUPPT8DUoEWl2Rx2pSuQCDnizD2PUn8C+Rm47+Ra0u6ZH02Rya+/Pygna/QI5CxmDtkeFWV5Q+B5fAlGeNAVP6rdVN3wm80bQ8gaXz8t7i/Ry+6Pxhbrrxa54hSx7oNA0ir8CifhDvOttj/6EUbP7BSCItXBP6roG8ZayuSsMIc/uxay1yZvZh0IwQbjl5mJtu/JrnKFwLnhlpnOC0YaTV1aROXCz8/jqs/gCqtIOeSyFrXqur0hLxy56Jn7vV5tyNewyf79xhEqaO7wAADMFJREFUbrrxa57FvzfU6AobvoLja6yuJmXu3za25wdPgoavQodJ4ONrdVVaEuqUzMM7z1Rk5cFLTPjbecPcdOPXPIsItBoF+Ssbm3wizlpd0cPdumAErZ34C579Hpp+rIPWnFzfRqV4pmpBvlx5hB2nnDO1Rn+CNM+TMYuxvT8u1gxzc9KwrUv74denjfFxn58HAS9YXZGWAiLCyI7VKZ4nC0Nn7eLK7SirS/oP3fg1z5SvLLQdAxd2GYd5OpvQNUbQGkCflVCuibX1aKmS3deHsd1rcyvKCHOLjXOukeF049c8V+XWEDgUdk6AffOtrub/BU+GmZ0gdynov9YYKlFzORUL5uCzttXYdvI6364+ZnU5/6Ibv+bZmnwExQONSIcrh62tJT4eVn8Iy1+FMk8Zkco5Cltbk5YuHfyL0rVuccauP8HqQ84T5qYbv+bZvH2g42RjEJe5PYwjaKwQEwUL+8Dm741hJLvOhUzZralFs6kPn6tM1SI5eH3eHs6GO0eYm278mpajkJF1c/2EEWvs6OOvI8NhWhs4uNiIk241CrztlqaiOVhCmJuXiNOEuenGr2kApR6Hxu8bzXf7OMctN/wETGwCF3YbMdINX9FBa26oWJ4sfNe5Bgcv3OKjpQetLkc3fk37R8PXoHwLWPWeEYJmb2e3GemaUTeh1zLjjFzNbTWuWIAhT5Vhzs5zzAs+Z2ktuvFrWoJ/wtyKmGFu1+y3rAMLYWpryJwb+q6G4vXstyzNabzetAINyuTlf0sOcPDCTcvq0I1f0xLLnBs6Tzea/sK+tg9zUwo2fQcL+kCR2tBPB615Em8v4ceutciVxYfBM3dx8541YW668WvagwrVgJZfw8n1sP5L2803LgaWvQJrPoKqHaDHEiM1VPMo+bJlYky32py/cY9h8/daEuamG7+mJaV2T6jZDTaOhGOr0j+/qFswqzPsmgqPvQHtJ+igNQ/mXyIP77SsxKpDlxm/8aTDl68bv6YlRQRafgMFqsKi/nDjTNrndfO8Eb9wcj20Hg1Pf6CD1jT6NCxJq2qFGPnnUbafdOzgQPrTp2nJSQhzU/H/197dB1lV13Ecf39cECQYYcUQBRUBMSJDWtRIzQdENJW0MsgxVBzHBih6mAZzcMzpAXJyysmnEtNJRXwcyFKXyCnzCVZ5cAFxEamgFTB1TAtT+fbH72der3vu3gv33LO75/uaubPn8Z7v/O6XL+ece+7vFwY/2ZXO3FpXw00nhV5Az707XEk4R+jMbe4XPsFB9b2YsWAF216vXWduXvidK2WfobEztxXw0OzK9m1ZErpUVh1MexiGnZROjK7TCp25fYo3drzDjBp25uaF37n2fOwMGDczDISyamF5+yyfH+7p1x8SntwZ8PF0Y3Sd1oj9+vCjs0ex7MVXuKpxfU2O6YXfuXKcdAUcOC48lbN1bfJ2O3dC45wwTOKw8XDBg6FLCOdKOOuIQZx71IHc+KeNNK55KfXjeeF3rhx13eBLvw4dp911XnhKp9jb/4F7zofHr4GxF8HkO6BH75qH6jqny88YyeGD9ubbd6/ir/98M9VjeeF3rlx99ouduW2ExTM+2Jnbmy+HX+KuXQwTfhieCPKO1lwFenSr49qvjGEPiUtueybVztxSK/ySbpa0TVJzwbJ6SUsktcS//dI6vnOpGHJseBxz7SJ48vqw7OWW8OTOS6vhnFth3AzvaM3tksH1vfjZl0ezrvV1Ll/U3P4OuyjNM/5bgIlFy2YDS81sOLA0zjvXuXxmFoz4HCyZA09cB/NPhrfegKkPwMhJWUfnOrkTDvsoM08cxl1Nm1m4/G+pHCO1wm9mfwaKh5ifBNwap28FPp/W8Z1LjRQe8dx7MDx8KfTqH57cGTw268hcFzFr/KEcM6w/cxatoXlL9Ttzq/U9/gFm1hqnXwIGJG0o6WJJTZKatm/fXpvonCvXXn1hyp1w9HSY1gj1Q7KOyHUhdXuIn08ezVFD6unRrfplWml2ECTpYOABMxsV518zs74F6181s3bv8zc0NFhTU1NqcTrnXFck6WkzayheXusz/q2SBsaABgLbanx855zLvVoX/sXA1Dg9FVhU4+M751zupfk45wLgCWCEpM2SpgFzgZMltQDj47xzzrkaSu0XJmY2JWGV91TlnHMZ8l/uOudcznjhd865nPHC75xzOeOF3znncibVH3BVi6TtwK4OetofeLmK4VSLx1UZj6syHldlOmpcsHuxHWRm+xYv7BSFf3dIamrrl2tZ87gq43FVxuOqTEeNC9KJzW/1OOdcznjhd865nMlD4f9l1gEk8Lgq43FVxuOqTEeNC1KIrcvf43fOOfdBeTjjd845V8ALv3PO5UynLfy7M5i7pKlxmxZJU9vapspxXSXpOUmrJd0vqW/CvpskPStppaSqjjyTENcVkrbE462UdFrCvhMlrZe0QVJVx0lOiGthQUybJK1M2DfN9hos6RFJayWtkfSNuDzTHCsRV6Y5ViKuTHOsRFyZ5piknpKWSVoV4/p+XD5E0lOxHRZK2jNh/0vjNuslnVJxAGbWKV/AccAYoLlg2U+A2XF6NjCvjf3qgY3xb7843S/luCYA3eL0vLbiius2Af1r2F5XAN9pZ7864AXgEGBPYBUwMs24itb/FLg8g/YaCIyJ032A54GRWedYibgyzbEScWWaY0lxZZ1jgIDecbo78BRwNHAXMDkuvwH4Whv7joxt1AMYEtuurpLjd9ozftv1wdxPAZaY2Stm9iqwBJiYZlxm1mhm78TZJ4FB1Tre7sRVpiOBDWa20cz+C9xJaOfU45Ik4BxgQbWOVy4zazWzZ+L0v4B1wAFknGNJcWWdYyXaqxyp5Vh7cWWVYxa8EWe7x5cBJwL3xOVJ+TUJuNPM3jKzF4ENhDYsW6ct/AnKGcz9AODvBfObKT9Bq+FC4MGEdQY0Snpa0sU1imdGvD1wc8Jtiyzb61hgq5m1JKyvSXspjB19BOGsrMPkWFFchTLNsTbi6hA5ltBemeWYpLp4i2kb4eTgBeC1gv/Ak9pht9urqxX+/7NwTdShnlWVdBnwDnB7wibHmNkY4FRguqTjUg7pemAoMBpoJVzydiRTKH0mlnp7SeoN3AvMMrPXC9dlmWNJcWWdY23E1SFyrMTnmFmOmdm7ZjaacHV2JHBYtd67PV2t8JczmPsWYHDB/KC4LFWSzgdOB86NBeNDzGxL/LsNuJ8KL98qZWZbY/LtBH6VcLys2qsbcDawMGmbtNtLUndCsbjdzO6LizPPsYS4Ms+xtuLqCDlWor0yz7H43q8BjwCfBvrGuCC5HXa7vbpa4S9nMPeHgQmS+sXLzglxWWokTQS+C5xpZv9O2OYjkvq8Nx3jam5r2yrGNbBg9qyE4y0HhsenDfYEJhPaOW3jgefMbHNbK9Nur3jvdz6wzsyuLliVaY4lxZV1jpWIK9McK/E5QoY5JmlfxSevJO0FnEz4/uER4Itxs6T8WgxMltRD0hBgOLCsogCq/W11rV6Ey7NW4G3CPa5pwD7AUqAF+ANQH7dtAG4q2PdCwhciG4ALahDXBsI9uZXxdUPcdn/g93H6EMI39auANcBlNYjrN8CzwOqYTAOL44rzpxGehnihFnHF5bcAlxRtW8v2OoZwG2d1wed2WtY5ViKuTHOsRFyZ5lhSXFnnGHA4sCLG1Ux8qigec1n8PO8GesTlZwJXFux/WWyr9cCplR7fu2xwzrmc6Wq3epxzzrXDC79zzuWMF37nnMsZL/zOOZczXvidcy5nvPA7VwOSGiRdk3UczoGPwOWcc7njZ/wulySNjR2H9Yy/0FwjaVQF+x8s6VFJz8TXuLj8LElLFQyU9Lyk/SQdL+mBuM1n9X5f8Cve+3Woc7XiZ/wutyT9AOgJ7AVsNrMfV7BvL2Cnme2QNBxYYGYNcd1thK6RJxL6h1kg6XhCv/SnS/otMNfMHoudh+2w93tkdC513drfxLku60pCPzE7gK9XuG934BeSRgPvAocWrJtJ+Bn+k2bWVs+PjwFXS7oduM8S+opxLi1+q8fl2T5Ab8LITD2LV0qaXnBLZv+i1d8EtgKfJPTTUzhE3iBgJzBA0of+jZnZXOAiwpXGY5Jq1h2vc+CF3+XbjcAcQt/184pXmtm1ZjY6vv5RtHpvoNVCd8PnEYYPfK+r35sJ/byvA75V/L6ShprZs2Y2j3DF4YXf1ZTf6nG5JOmrwNtmdoekOuBxSSea2R/LfIvrgHvj+zwEvBmXfw941Mz+ImkVsFzS74r2nSXpBMJVwRqSR8tyLhX+5a5zzuWM3+pxzrmc8cLvnHM544XfOedyxgu/c87ljBd+55zLGS/8zjmXM174nXMuZ/4HW44it+f9k3QAAAAASUVORK5CYII=)"
      ],
      "metadata": {
        "id": "6sXgYkDIUDRi"
      }
    },
    {
      "cell_type": "markdown",
      "source": [
        "###Scatter plots"
      ],
      "metadata": {
        "id": "Rft9zBJaZJDB"
      }
    },
    {
      "cell_type": "code",
      "source": [
        "import numpy as np\n",
        "# random data initialization\n",
        "x = np.random.randn(20)\n",
        "y = np.random.randn(20)"
      ],
      "metadata": {
        "id": "9jPhdAtoZ2re"
      },
      "execution_count": null,
      "outputs": []
    },
    {
      "cell_type": "code",
      "source": [
        "fig, ax = plt.subplots()\n",
        "ax.scatter(x, y);"
      ],
      "metadata": {
        "colab": {
          "base_uri": "https://localhost:8080/",
          "height": 265
        },
        "id": "vZI6I-lRZQqi",
        "outputId": "f128e898-7ba8-4724-a283-04a5f4307298"
      },
      "execution_count": null,
      "outputs": [
        {
          "output_type": "display_data",
          "data": {
            "text/plain": [
              "<Figure size 432x288 with 1 Axes>"
            ],
            "image/png": "[encoded data removed]"
          },
          "metadata": {
            "needs_background": "light"
          }
        }
      ]
    },
    {
      "cell_type": "code",
      "source": [
        "\n",
        "fig, axs = plt.subplots(2, 3, sharex=True, sharey=True, figsize=(16,12));\n",
        "\n",
        "# marker symbol\n",
        "axs[0, 0].scatter(x, y, s=80, marker=\">\")\n",
        "axs[0, 0].set_title(\"marker='>'\")\n",
        "# marker from TeX\n",
        "axs[0, 1].scatter(x, y, s=80, marker=r'$\\alpha$')\n",
        "axs[0, 1].set_title(r\"marker=r'\\$\\alpha\\$'\")\n",
        "\n",
        "# marker from path\n",
        "verts = [[-1, -1], [1, -1], [1, 1], [-1, -1]]\n",
        "axs[0, 2].scatter(x, y, s=80, marker=verts)\n",
        "axs[0, 2].set_title(\"marker=verts\")\n",
        "\n",
        "# regular polygon marker\n",
        "axs[1, 0].scatter(x, y, s=80, marker=(5, 0))\n",
        "axs[1, 0].set_title(\"marker=(5, 0)\")\n",
        "\n",
        "# regular star marker\n",
        "axs[1, 1].scatter(x, y, s=80, marker=(5, 1))\n",
        "axs[1, 1].set_title(\"marker=(5, 1)\")\n",
        "\n",
        "# regular asterisk marker\n",
        "axs[1, 2].scatter(x, y, s=80, marker=(5, 2))\n",
        "axs[1, 2].set_title(\"marker=(5, 2)\");"
      ],
      "metadata": {
        "colab": {
          "base_uri": "https://localhost:8080/",
          "height": 716
        },
        "id": "x-UJFjqoZYHi",
        "outputId": "3640044f-af62-4f6c-ec11-6c89f6693b2f"
      },
      "execution_count": null,
      "outputs": [
        {
          "output_type": "display_data",
          "data": {
            "text/plain": [
              "<Figure size 1152x864 with 6 Axes>"
            ],
            "image/png": "[encoded data removed]"
          },
          "metadata": {
            "needs_background": "light"
          }
        }
      ]
    },
    {
      "cell_type": "markdown",
      "source": [
        "###Histograms"
      ],
      "metadata": {
        "id": "YA11hhCoZqbi"
      }
    },
    {
      "cell_type": "code",
      "source": [
        "data = np.random.randn(1000)\n",
        "plt.hist(data);"
      ],
      "metadata": {
        "colab": {
          "base_uri": "https://localhost:8080/",
          "height": 265
        },
        "id": "B124fcr4Zjky",
        "outputId": "423045db-d344-4d9d-ba11-26a60e8a4edc"
      },
      "execution_count": null,
      "outputs": [
        {
          "output_type": "display_data",
          "data": {
            "text/plain": [
              "<Figure size 432x288 with 1 Axes>"
            ],
            "image/png": "[encoded data removed]"
          },
          "metadata": {
            "needs_background": "light"
          }
        }
      ]
    },
    {
      "cell_type": "code",
      "source": [
        "plt.hist(data, bins=50,\n",
        "         alpha=0.5,\n",
        "         histtype='bar',\n",
        "         color='steelblue',\n",
        "         edgecolor='black');"
      ],
      "metadata": {
        "colab": {
          "base_uri": "https://localhost:8080/",
          "height": 265
        },
        "id": "7dn9WKfiZrzx",
        "outputId": "bc85ce3a-47a0-4b29-c428-bb070ae7fe0d"
      },
      "execution_count": null,
      "outputs": [
        {
          "output_type": "display_data",
          "data": {
            "text/plain": [
              "<Figure size 432x288 with 1 Axes>"
            ],
            "image/png": "[encoded data removed]"
          },
          "metadata": {
            "needs_background": "light"
          }
        }
      ]
    },
    {
      "cell_type": "code",
      "source": [],
      "metadata": {
        "id": "ERdVnVXnUMIi"
      },
      "execution_count": null,
      "outputs": []
    }
  ],
  "metadata": {
    "colab": {
      "provenance": [],
      "toc_visible": true
    },
    "kernelspec": {
      "display_name": "Python 3",
      "language": "python",
      "name": "python3"
    },
    "language_info": {
      "codemirror_mode": {
        "name": "ipython",
        "version": 3
      },
      "file_extension": ".py",
      "mimetype": "text/x-python",
      "name": "python",
      "nbconvert_exporter": "python",
      "pygments_lexer": "ipython3",
      "version": "3.7.6"
    }
  },
  "nbformat": 4,
  "nbformat_minor": 0
}